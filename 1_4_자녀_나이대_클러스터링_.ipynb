{
  "nbformat": 4,
  "nbformat_minor": 0,
  "metadata": {
    "colab": {
      "provenance": [],
      "authorship_tag": "ABX9TyP+69lXdH7mEgpLvQNW7YHY",
      "include_colab_link": true
    },
    "kernelspec": {
      "name": "python3",
      "display_name": "Python 3"
    },
    "language_info": {
      "name": "python"
    }
  },
  "cells": [
    {
      "cell_type": "markdown",
      "metadata": {
        "id": "view-in-github",
        "colab_type": "text"
      },
      "source": [
        "<a href=\"https://colab.research.google.com/github/jinju-yang/Shinhan-Bigdata-Hackerthon/blob/1-4%2Fchildren-age-clustering/1_4_%EC%9E%90%EB%85%80_%EB%82%98%EC%9D%B4%EB%8C%80_%ED%81%B4%EB%9F%AC%EC%8A%A4%ED%84%B0%EB%A7%81_.ipynb\" target=\"_parent\"><img src=\"https://colab.research.google.com/assets/colab-badge.svg\" alt=\"Open In Colab\"/></a>"
      ]
    },
    {
      "cell_type": "code",
      "execution_count": null,
      "metadata": {
        "id": "suXiii5Sz336"
      },
      "outputs": [],
      "source": [
        "import pandas as pd\n",
        "from sklearn.cluster import KMeans\n",
        "import numpy as np\n",
        "import matplotlib.pyplot as plt\n",
        "from sklearn.preprocessing import MinMaxScaler"
      ]
    },
    {
      "cell_type": "code",
      "source": [
        "df_asset = pd.read_csv('asset_cluster.csv')\n",
        "df_asset"
      ],
      "metadata": {
        "id": "fpiEKw7Vz82N"
      },
      "execution_count": null,
      "outputs": []
    },
    {
      "cell_type": "code",
      "source": [
        "df_asset.rename(columns={\"pk1\": \"기준년월\", \"pk2\": \"성별\", \"pk3\": \"연령대\", \"pk4\": \"지역\"}, inplace=True)"
      ],
      "metadata": {
        "id": "Xh9xlN41z-xs"
      },
      "execution_count": null,
      "outputs": []
    },
    {
      "cell_type": "code",
      "source": [
        "df_asset.rename(columns={'cb02m': '이용금액_마트', 'cc01m': '이용금액_식당',\n",
        "                          'cd07m': '이용금액_서점',\n",
        "                          'ce01m': '이용금액_학원학습지', 'cf11m': '이용금액_놀이동산',\n",
        "                          'cf16m': '이용금액_전시/관람/체험', 'cf17m': '이용금액_오락실/PC방', 'la04r': '최근1년보험비율_어린이',\n",
        "                          'lb04r': '보험비율_어린이', 'lb12m': '보험월납평균_어린이',\n",
        "                          'lc05r': '보험금지급경험비율_어린이', 'ld05r': '보험대출경험비율_어린이'}, inplace=True)"
      ],
      "metadata": {
        "id": "0uIYUboU0A2n"
      },
      "execution_count": null,
      "outputs": []
    },
    {
      "cell_type": "code",
      "source": [
        "columns = ['연령대_5', '이용금액_서점', '이용금액_학원학습지', '최근1년보험비율_어린이']"
      ],
      "metadata": {
        "id": "PJc6rYcN0DN8"
      },
      "execution_count": null,
      "outputs": []
    },
    {
      "cell_type": "code",
      "source": [
        "def extract_age(row):\n",
        "    age = int(row[:2])  # Extract the first two characters as an integer\n",
        "    return age if row.endswith('s') else age + 5\n",
        "\n",
        "df_asset['연령대_5'] = df_asset['연령대'].apply(extract_age)\n",
        "\n",
        "df_asset.sample(3)"
      ],
      "metadata": {
        "id": "00Qnr_XX0EqE"
      },
      "execution_count": null,
      "outputs": []
    },
    {
      "cell_type": "code",
      "source": [
        "# 60대는 제외 -> 서비스 대상에 적합하지 않다.\n",
        "df_asset = df_asset[df_asset['연령대_5']<60]"
      ],
      "metadata": {
        "id": "d277KhDQ0GCj"
      },
      "execution_count": null,
      "outputs": []
    },
    {
      "cell_type": "code",
      "source": [
        "df_asset['연령대_5'].unique()"
      ],
      "metadata": {
        "id": "_5AjZf5Q0Hz5"
      },
      "execution_count": null,
      "outputs": []
    },
    {
      "cell_type": "code",
      "source": [
        "df_asset[columns].isnull().sum()"
      ],
      "metadata": {
        "id": "yXRoQ98v0Jza"
      },
      "execution_count": null,
      "outputs": []
    },
    {
      "cell_type": "code",
      "source": [
        "# 결측치 제거\n",
        "## 어린이보험이 null이면 자녀가 없음을 의미\n",
        "df_asset.dropna(subset = columns, inplace=True)"
      ],
      "metadata": {
        "id": "FLko88FH0K6w"
      },
      "execution_count": null,
      "outputs": []
    },
    {
      "cell_type": "code",
      "source": [
        "## 어린이보험비율=0인 행들 삭제\n",
        "### 자녀가 없다고 판단\n",
        "df_asset = df_asset[df_asset['보험비율_어린이']!=0]"
      ],
      "metadata": {
        "id": "2dMUnoAW0MN1"
      },
      "execution_count": null,
      "outputs": []
    },
    {
      "cell_type": "code",
      "source": [
        "asset_high = df_asset[df_asset['cluster']==2]\n",
        "asset_midd = df_asset[df_asset['cluster']==0]\n",
        "asset_low = df_asset[df_asset['cluster']==1]"
      ],
      "metadata": {
        "id": "y4dc3YnK0NeZ"
      },
      "execution_count": null,
      "outputs": []
    },
    {
      "cell_type": "code",
      "source": [
        "asset_high.head()"
      ],
      "metadata": {
        "id": "VNPH8kG00O2P"
      },
      "execution_count": null,
      "outputs": []
    },
    {
      "cell_type": "code",
      "source": [
        "scaler = MinMaxScaler()\n",
        "asset_high[columns] = scaler.fit_transform(asset_high[columns])"
      ],
      "metadata": {
        "id": "iCdXIgQU0QMv"
      },
      "execution_count": null,
      "outputs": []
    },
    {
      "cell_type": "code",
      "source": [
        "asset_high[columns].head()"
      ],
      "metadata": {
        "id": "0RSI1Rti0ReU"
      },
      "execution_count": null,
      "outputs": []
    },
    {
      "cell_type": "code",
      "source": [
        "#컬럼 설정\n",
        "X_high = asset_high[columns]"
      ],
      "metadata": {
        "id": "w6-HMK0G0SVM"
      },
      "execution_count": null,
      "outputs": []
    },
    {
      "cell_type": "code",
      "source": [
        "# Elbow Method로 최적의 k값 찾기\n",
        "sse = []\n",
        "k_range = range(1, 11)  # k의 범위 설정 (1부터 10까지)\n",
        "\n",
        "for k in k_range:\n",
        "    kmeans = KMeans(n_clusters=k, random_state=42)\n",
        "    kmeans.fit(X_high)\n",
        "    sse.append(kmeans.inertia_)  # 군집 내 거리의 합 (SSE)\n",
        "\n",
        "# Elbow Plot 그리기\n",
        "plt.figure(figsize=(10, 6))\n",
        "plt.plot(k_range, sse, marker='o')\n",
        "plt.title('Elbow Method for Optimal k')\n",
        "plt.xlabel('Number of Clusters (k)')\n",
        "plt.ylabel('Sum of Squared Errors (SSE)')\n",
        "plt.xticks(k_range)\n",
        "plt.grid()\n",
        "plt.show()"
      ],
      "metadata": {
        "id": "QbQ6RLLs0Tzc"
      },
      "execution_count": null,
      "outputs": []
    },
    {
      "cell_type": "code",
      "source": [
        "from sklearn.metrics import silhouette_score\n",
        "\n",
        "silhouette_scores = []\n",
        "k_range = range(1, 11)  # k의 범위 설정 (1부터 10까지)\n",
        "\n",
        "# k 값의 범위 설정\n",
        "for k in k_range:\n",
        "    kmeans = KMeans(n_clusters=k, random_state=42)\n",
        "    kmeans.fit(X_high)\n",
        "\n",
        "    if k > 1:  # 군집이 1개일 경우 실루엣 계수를 계산할 수 없음\n",
        "        score = silhouette_score(X_high, kmeans.labels_)\n",
        "        silhouette_scores.append(score)\n",
        "\n",
        "# Silhouette Score Plot 그리기\n",
        "plt.figure(figsize=(10, 6))\n",
        "plt.plot(k_range[1:], silhouette_scores, marker='o', color='g')\n",
        "plt.title('Silhouette Score for Optimal k')\n",
        "plt.xlabel('Number of Clusters (k)')\n",
        "plt.ylabel('Silhouette Score')\n",
        "plt.grid()\n",
        "plt.show()"
      ],
      "metadata": {
        "id": "uajO430H0Uzr"
      },
      "execution_count": null,
      "outputs": []
    },
    {
      "cell_type": "code",
      "source": [
        "#k=2로 결정\n",
        "kmeans = KMeans(n_clusters=2, random_state=42)\n",
        "asset_high['child_cluster'] = kmeans.fit_predict(X_high)"
      ],
      "metadata": {
        "id": "QyEnJugR0V6-"
      },
      "execution_count": null,
      "outputs": []
    },
    {
      "cell_type": "code",
      "source": [
        "cluster_summary = asset_high[columns+['child_cluster']].groupby('child_cluster').mean()\n",
        "# 원래 스케일로 변환\n",
        "cluster_summary_original = scaler.inverse_transform(cluster_summary)\n",
        "cluster_summary_original_df = pd.DataFrame(cluster_summary_original, columns=columns)\n",
        "cluster_summary_original_df['child_cluster'] = cluster_summary.index\n",
        "cluster_summary_original_df"
      ],
      "metadata": {
        "id": "8618wpKP0YAw"
      },
      "execution_count": null,
      "outputs": []
    },
    {
      "cell_type": "code",
      "source": [
        "#클러스터 균형 확인\n",
        "asset_high['child_cluster'].value_counts()"
      ],
      "metadata": {
        "id": "ObPPu6or0Zb6"
      },
      "execution_count": null,
      "outputs": []
    },
    {
      "cell_type": "code",
      "source": [
        "# 필요한 컬럼만 추출하고 scaling된 데이터를 원래 스케일로 되돌림\n",
        "scaled_columns = columns  # scaling을 했던 컬럼 리스트\n",
        "scaled_data = asset_high[scaled_columns]  # scaling된 컬럼들\n",
        "\n",
        "# 원래 스케일로 변환 (scaler는 원래 스케일링에 사용했던 객체여야 함)\n",
        "original_data = scaler.inverse_transform(scaled_data)\n",
        "\n",
        "# 원래 데이터를 asset_high에 복원 (컬럼 이름 유지)\n",
        "asset_high[scaled_columns] = original_data\n",
        "\n",
        "# 결과 확인\n",
        "asset_high.head()"
      ],
      "metadata": {
        "id": "Hx_99J3l0a3r"
      },
      "execution_count": null,
      "outputs": []
    },
    {
      "cell_type": "code",
      "source": [
        "# 데이터프레임 저장\n",
        "asset_high.to_csv('asset_high.csv')"
      ],
      "metadata": {
        "id": "UjLw_Oet0cDd"
      },
      "execution_count": null,
      "outputs": []
    },
    {
      "cell_type": "code",
      "source": [
        "asset_high['이용금액_학원학습지'].describe()"
      ],
      "metadata": {
        "id": "-lhRM_s_0dti"
      },
      "execution_count": null,
      "outputs": []
    },
    {
      "cell_type": "code",
      "source": [
        "asset_high['최근1년보험비율_어린이'].describe()"
      ],
      "metadata": {
        "id": "CnCIjq2q0exJ"
      },
      "execution_count": null,
      "outputs": []
    },
    {
      "cell_type": "code",
      "source": [
        "age_distribution = asset_high['연령대'].value_counts()\n",
        "plt.figure(figsize=(10, 6))\n",
        "age_distribution.plot(kind='bar', color='skyblue')\n",
        "plt.title('Distribution of Age Groups')\n",
        "plt.xlabel('Age Group')\n",
        "plt.ylabel('Count')\n",
        "plt.xticks(rotation=45)\n",
        "plt.show()"
      ],
      "metadata": {
        "id": "o2Dh4R9P0gB2"
      },
      "execution_count": null,
      "outputs": []
    },
    {
      "cell_type": "code",
      "source": [
        "asset_midd.head()"
      ],
      "metadata": {
        "id": "fsGLYJp40h4B"
      },
      "execution_count": null,
      "outputs": []
    },
    {
      "cell_type": "code",
      "source": [
        "scaler = MinMaxScaler()\n",
        "asset_midd[columns] = scaler.fit_transform(asset_midd[columns])"
      ],
      "metadata": {
        "id": "5YXygSkF0jn2"
      },
      "execution_count": null,
      "outputs": []
    },
    {
      "cell_type": "code",
      "source": [
        "asset_midd[columns].head()"
      ],
      "metadata": {
        "id": "kSaFp9ti0kwq"
      },
      "execution_count": null,
      "outputs": []
    },
    {
      "cell_type": "code",
      "source": [
        "#컬럼 설정\n",
        "X_midd = asset_midd[columns]"
      ],
      "metadata": {
        "id": "FdCl5Vpw0mGm"
      },
      "execution_count": null,
      "outputs": []
    },
    {
      "cell_type": "code",
      "source": [
        "# Elbow Method로 최적의 k값 찾기\n",
        "sse = []\n",
        "k_range = range(1, 11)  # k의 범위 설정 (1부터 10까지)\n",
        "\n",
        "for k in k_range:\n",
        "    kmeans = KMeans(n_clusters=k, random_state=42)\n",
        "    kmeans.fit(X_midd)\n",
        "    sse.append(kmeans.inertia_)  # 군집 내 거리의 합 (SSE)\n",
        "\n",
        "# Elbow Plot 그리기\n",
        "plt.figure(figsize=(10, 6))\n",
        "plt.plot(k_range, sse, marker='o')\n",
        "plt.title('Elbow Method for Optimal k')\n",
        "plt.xlabel('Number of Clusters (k)')\n",
        "plt.ylabel('Sum of Squared Errors (SSE)')\n",
        "plt.xticks(k_range)\n",
        "plt.grid()\n",
        "plt.show()"
      ],
      "metadata": {
        "id": "GxU-itoR0nM0"
      },
      "execution_count": null,
      "outputs": []
    },
    {
      "cell_type": "code",
      "source": [
        "from sklearn.metrics import silhouette_score\n",
        "\n",
        "silhouette_scores = []\n",
        "k_range = range(1, 16)  # k의 범위 설정 (1부터 10까지)\n",
        "\n",
        "# k 값의 범위 설정\n",
        "for k in k_range:\n",
        "    kmeans = KMeans(n_clusters=k, random_state=42)\n",
        "    kmeans.fit(X_midd)\n",
        "\n",
        "    if k > 1:  # 군집이 1개일 경우 실루엣 계수를 계산할 수 없음\n",
        "        score = silhouette_score(X_midd, kmeans.labels_)\n",
        "        silhouette_scores.append(score)\n",
        "\n",
        "# Silhouette Score Plot 그리기\n",
        "plt.figure(figsize=(10, 6))\n",
        "plt.plot(k_range[1:], silhouette_scores, marker='o', color='g')\n",
        "plt.title('Silhouette Score for Optimal k')\n",
        "plt.xlabel('Number of Clusters (k)')\n",
        "plt.ylabel('Silhouette Score')\n",
        "plt.grid()\n",
        "plt.show()"
      ],
      "metadata": {
        "id": "zgnjg9wh0oBR"
      },
      "execution_count": null,
      "outputs": []
    },
    {
      "cell_type": "code",
      "source": [
        "#k=2로 결정\n",
        "kmeans = KMeans(n_clusters=2, random_state=42)\n",
        "asset_midd['child_cluster'] = kmeans.fit_predict(X_midd)"
      ],
      "metadata": {
        "id": "lmEWEKle0pF1"
      },
      "execution_count": null,
      "outputs": []
    },
    {
      "cell_type": "code",
      "source": [
        "midd_summary = asset_midd[columns+['child_cluster']].groupby('child_cluster').mean()\n",
        "# 원래 스케일로 변환\n",
        "midd_summary_original = scaler.inverse_transform(midd_summary)\n",
        "midd_summary_original_df = pd.DataFrame(midd_summary_original, columns=columns)\n",
        "midd_summary_original_df['child_cluster'] = midd_summary.index\n",
        "midd_summary_original_df"
      ],
      "metadata": {
        "id": "qE3hQiMA0p__"
      },
      "execution_count": null,
      "outputs": []
    },
    {
      "cell_type": "code",
      "source": [
        "#클러스터 균형 확인\n",
        "asset_midd['child_cluster'].value_counts()"
      ],
      "metadata": {
        "id": "rvXJ0yWQ0q82"
      },
      "execution_count": null,
      "outputs": []
    },
    {
      "cell_type": "code",
      "source": [
        "# 필요한 컬럼만 추출하고 scaling된 데이터를 원래 스케일로 되돌림\n",
        "scaled_columns = columns  # scaling을 했던 컬럼 리스트\n",
        "scaled_data = asset_midd[scaled_columns]  # scaling된 컬럼들\n",
        "\n",
        "# 원래 스케일로 변환 (scaler는 원래 스케일링에 사용했던 객체여야 함)\n",
        "original_data = scaler.inverse_transform(scaled_data)\n",
        "\n",
        "# 원래 데이터를 asset_high에 복원 (컬럼 이름 유지)\n",
        "asset_midd[scaled_columns] = original_data\n",
        "\n",
        "# 결과 확인\n",
        "asset_midd.head()"
      ],
      "metadata": {
        "id": "3qh01nE40rzU"
      },
      "execution_count": null,
      "outputs": []
    },
    {
      "cell_type": "code",
      "source": [
        "asset_midd.shape"
      ],
      "metadata": {
        "id": "-IDFpc3t0snz"
      },
      "execution_count": null,
      "outputs": []
    },
    {
      "cell_type": "code",
      "source": [
        "# 데이터프레임 저장\n",
        "asset_midd.to_csv('asset_midd.csv')"
      ],
      "metadata": {
        "id": "_3vSNNi40t4Y"
      },
      "execution_count": null,
      "outputs": []
    },
    {
      "cell_type": "code",
      "source": [
        "asset_midd['이용금액_학원학습지'].describe()"
      ],
      "metadata": {
        "id": "9QBjgkEQ0vJu"
      },
      "execution_count": null,
      "outputs": []
    },
    {
      "cell_type": "code",
      "source": [
        "asset_midd['최근1년보험비율_어린이'].describe()"
      ],
      "metadata": {
        "id": "lGw30kWz0wbg"
      },
      "execution_count": null,
      "outputs": []
    },
    {
      "cell_type": "code",
      "source": [
        "age_distribution = asset_midd['연령대'].value_counts()\n",
        "plt.figure(figsize=(10, 6))\n",
        "age_distribution.plot(kind='bar', color='skyblue')\n",
        "plt.title('Distribution of Age Groups')\n",
        "plt.xlabel('Age Group')\n",
        "plt.ylabel('Count')\n",
        "plt.xticks(rotation=45)\n",
        "plt.show()"
      ],
      "metadata": {
        "id": "t1OHIB3D0x5c"
      },
      "execution_count": null,
      "outputs": []
    },
    {
      "cell_type": "code",
      "source": [
        "asset_low.head()"
      ],
      "metadata": {
        "id": "roabKokm0y-Z"
      },
      "execution_count": null,
      "outputs": []
    },
    {
      "cell_type": "code",
      "source": [
        "scaler = MinMaxScaler()\n",
        "asset_low[columns] = scaler.fit_transform(asset_low[columns])"
      ],
      "metadata": {
        "id": "qeqi4nWT00ON"
      },
      "execution_count": null,
      "outputs": []
    },
    {
      "cell_type": "code",
      "source": [
        "asset_low[columns].head()"
      ],
      "metadata": {
        "id": "cG1cG2jf01aw"
      },
      "execution_count": null,
      "outputs": []
    },
    {
      "cell_type": "code",
      "source": [
        "#컬럼 설정\n",
        "X_low = asset_low[columns]"
      ],
      "metadata": {
        "id": "WZ8FPPCH02OU"
      },
      "execution_count": null,
      "outputs": []
    },
    {
      "cell_type": "code",
      "source": [
        "# Elbow Method로 최적의 k값 찾기\n",
        "sse = []\n",
        "k_range = range(1, 11)  # k의 범위 설정 (1부터 10까지)\n",
        "\n",
        "for k in k_range:\n",
        "    kmeans = KMeans(n_clusters=k, random_state=42)\n",
        "    kmeans.fit(X_low)\n",
        "    sse.append(kmeans.inertia_)  # 군집 내 거리의 합 (SSE)\n",
        "\n",
        "# Elbow Plot 그리기\n",
        "plt.figure(figsize=(10, 6))\n",
        "plt.plot(k_range, sse, marker='o')\n",
        "plt.title('Elbow Method for Optimal k')\n",
        "plt.xlabel('Number of Clusters (k)')\n",
        "plt.ylabel('Sum of Squared Errors (SSE)')\n",
        "plt.xticks(k_range)\n",
        "plt.grid()\n",
        "plt.show()"
      ],
      "metadata": {
        "id": "be9GohXQ049h"
      },
      "execution_count": null,
      "outputs": []
    },
    {
      "cell_type": "code",
      "source": [
        "from sklearn.metrics import silhouette_score\n",
        "\n",
        "silhouette_scores = []\n",
        "k_range = range(1, 11)  # k의 범위 설정 (1부터 10까지)\n",
        "\n",
        "# k 값의 범위 설정\n",
        "for k in k_range:\n",
        "    kmeans = KMeans(n_clusters=k, random_state=42)\n",
        "    kmeans.fit(X_low)\n",
        "\n",
        "    if k > 1:  # 군집이 1개일 경우 실루엣 계수를 계산할 수 없음\n",
        "        score = silhouette_score(X_low, kmeans.labels_)\n",
        "        silhouette_scores.append(score)\n",
        "\n",
        "# Silhouette Score Plot 그리기\n",
        "plt.figure(figsize=(10, 6))\n",
        "plt.plot(k_range[1:], silhouette_scores, marker='o', color='g')\n",
        "plt.title('Silhouette Score for Optimal k')\n",
        "plt.xlabel('Number of Clusters (k)')\n",
        "plt.ylabel('Silhouette Score')\n",
        "plt.grid()\n",
        "plt.show()"
      ],
      "metadata": {
        "id": "HLrg__y-05yC"
      },
      "execution_count": null,
      "outputs": []
    },
    {
      "cell_type": "code",
      "source": [
        "#k=2로 결정\n",
        "kmeans = KMeans(n_clusters=2, random_state=42)\n",
        "asset_low['child_cluster'] = kmeans.fit_predict(X_low)"
      ],
      "metadata": {
        "id": "OJe57bYl066J"
      },
      "execution_count": null,
      "outputs": []
    },
    {
      "cell_type": "code",
      "source": [
        "low_summary = asset_low[columns+['child_cluster']].groupby('child_cluster').mean()\n",
        "# 원래 스케일로 변환\n",
        "low_summary_original = scaler.inverse_transform(low_summary)\n",
        "low_summary_original_df = pd.DataFrame(low_summary_original, columns=columns)\n",
        "low_summary_original_df['child_cluster'] = low_summary.index\n",
        "low_summary_original_df"
      ],
      "metadata": {
        "id": "vLKyEzle075P"
      },
      "execution_count": null,
      "outputs": []
    },
    {
      "cell_type": "code",
      "source": [
        "#클러스터 균형 확인\n",
        "asset_low['child_cluster'].value_counts()"
      ],
      "metadata": {
        "id": "XK6g4vuI09H1"
      },
      "execution_count": null,
      "outputs": []
    },
    {
      "cell_type": "code",
      "source": [
        "# 필요한 컬럼만 추출하고 scaling된 데이터를 원래 스케일로 되돌림\n",
        "scaled_columns = columns  # scaling을 했던 컬럼 리스트\n",
        "scaled_data = asset_low[scaled_columns]  # scaling된 컬럼들\n",
        "\n",
        "# 원래 스케일로 변환 (scaler는 원래 스케일링에 사용했던 객체여야 함)\n",
        "original_data = scaler.inverse_transform(scaled_data)\n",
        "\n",
        "# 원래 데이터를 asset_high에 복원 (컬럼 이름 유지)\n",
        "asset_low[scaled_columns] = original_data\n",
        "\n",
        "# 결과 확인\n",
        "asset_low.head()"
      ],
      "metadata": {
        "id": "IJbuFhtS0-dC"
      },
      "execution_count": null,
      "outputs": []
    },
    {
      "cell_type": "code",
      "source": [
        "asset_low.shape"
      ],
      "metadata": {
        "id": "KClqMl2s0_S2"
      },
      "execution_count": null,
      "outputs": []
    },
    {
      "cell_type": "code",
      "source": [
        "# 데이터프레임 저장\n",
        "asset_low.to_csv('asset_low.csv')"
      ],
      "metadata": {
        "id": "SQ4RmIv01AbF"
      },
      "execution_count": null,
      "outputs": []
    },
    {
      "cell_type": "code",
      "source": [
        "asset_low['이용금액_학원학습지'].describe()"
      ],
      "metadata": {
        "id": "DWIX-zSa1BUl"
      },
      "execution_count": null,
      "outputs": []
    },
    {
      "cell_type": "code",
      "source": [
        "asset_low['최근1년보험비율_어린이'].describe()"
      ],
      "metadata": {
        "id": "tON0euih1Cf4"
      },
      "execution_count": null,
      "outputs": []
    },
    {
      "cell_type": "code",
      "source": [
        "age_distribution = asset_low['연령대'].value_counts()\n",
        "plt.figure(figsize=(10, 6))\n",
        "age_distribution.plot(kind='bar', color='skyblue')\n",
        "plt.title('Distribution of Age Groups')\n",
        "plt.xlabel('Age Group')\n",
        "plt.ylabel('Count')\n",
        "plt.xticks(rotation=45)\n",
        "plt.show()"
      ],
      "metadata": {
        "id": "5fxz0jlS1DYH"
      },
      "execution_count": null,
      "outputs": []
    },
    {
      "cell_type": "code",
      "source": [],
      "metadata": {
        "id": "EQQCP9Am1ERd"
      },
      "execution_count": null,
      "outputs": []
    }
  ]
}