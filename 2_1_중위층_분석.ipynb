{
  "nbformat": 4,
  "nbformat_minor": 0,
  "metadata": {
    "colab": {
      "provenance": [],
      "authorship_tag": "ABX9TyOgGSZMvyVlxxtLBO/7+lAA",
      "include_colab_link": true
    },
    "kernelspec": {
      "name": "python3",
      "display_name": "Python 3"
    },
    "language_info": {
      "name": "python"
    }
  },
  "cells": [
    {
      "cell_type": "markdown",
      "metadata": {
        "id": "view-in-github",
        "colab_type": "text"
      },
      "source": [
        "<a href=\"https://colab.research.google.com/github/jinju-yang/Shinhan-Bigdata-Hackerthon/blob/main/2_1_%EC%A4%91%EC%9C%84%EC%B8%B5_%EB%B6%84%EC%84%9D.ipynb\" target=\"_parent\"><img src=\"https://colab.research.google.com/assets/colab-badge.svg\" alt=\"Open In Colab\"/></a>"
      ]
    },
    {
      "cell_type": "code",
      "execution_count": null,
      "metadata": {
        "id": "Ei9DftI71N-y"
      },
      "outputs": [],
      "source": [
        "pip install koreanize_matplotlib\n",
        "import pandas as pd\n",
        "import numpy as np\n",
        "import matplotlib.pyplot as plt\n",
        "import koreanize_matplotlib\n",
        "%config InlineBackend.figure_format = 'retina'\n",
        "from matplotlib import rcParams\n",
        "from pandas.api.types import CategoricalDtype"
      ]
    },
    {
      "cell_type": "code",
      "source": [
        "df = pd.read_csv('asset_midd.csv')\n",
        "df"
      ],
      "metadata": {
        "id": "lu6ICraZ1YI3"
      },
      "execution_count": null,
      "outputs": []
    },
    {
      "cell_type": "code",
      "source": [
        "columns_to_sum = ['ba01m', 'ba02m', 'ba04m', 'ba06m', 'ba08m', 'ba10m', 'ba12m',\n",
        "                  'ba14m', 'ba16m', 'ba18m', 'bb02m', 'bb04m', 'bb06m', 'bb08m']\n",
        "columns_to_sum2 = ['cb01m', '이용금액_마트', 'cb03m', 'cb04m', 'cb05m', 'cb06m', 'cb07m', 'cb08m', 'cb09m',\n",
        "                   '이용금액_식당', 'cc02m', 'cc03m', 'cc04m', 'cd01m', 'cd02m', 'cd03m', 'cd04m', 'cd05m',\n",
        "                  'cd06m', '이용금액_서점', 'cd08m', 'cd09m', 'cd10m', 'cd11m', 'cd12m', 'cd13m', 'cd14m',\n",
        "                  '이용금액_학원학습지', 'ce02m', 'ce03m', 'ce04m', 'ce05m', 'ce06m', 'ce07m', 'ce08m', 'cf01m',\n",
        "                   'cf02m', 'cf03m', 'cf04m', 'cf05m', 'cf06m', 'cf07m', 'cf08m', 'cf09m', 'cf10m',\n",
        "                   '이용금액_놀이동산', 'cf12m', 'cf13m', 'cf14m', 'cf15m', '이용금액_전시/관람/체험', '이용금액_오락실/PC방', 'cf18m', 'cf19m']\n",
        "columns_to_sum3 = ['sb04m', 'sb05m', 'sb06m', 'sb07m', 'sb08m', 'sb09m']\n",
        "columns_to_sum4 = ['cg04r', 'cg05r', 'cg06r', 'cg07r']"
      ],
      "metadata": {
        "id": "bSVf_VIs1ZM2"
      },
      "execution_count": null,
      "outputs": []
    },
    {
      "cell_type": "code",
      "source": [
        "df['bank'] = df[columns_to_sum].sum(axis=1)\n",
        "df['card'] = df[columns_to_sum2].sum(axis=1)\n",
        "df['certificate'] = df[columns_to_sum3].sum(axis=1)\n",
        "df['cross'] = df[columns_to_sum4].sum(axis=1)"
      ],
      "metadata": {
        "id": "8hTi7ZwM1aG_"
      },
      "execution_count": null,
      "outputs": []
    },
    {
      "cell_type": "code",
      "source": [
        "baby_df = df[df['child_cluster'] == 0]\n",
        "student_df = df[df['child_cluster'] == 1]"
      ],
      "metadata": {
        "id": "6-_D261v1bJ0"
      },
      "execution_count": null,
      "outputs": []
    },
    {
      "cell_type": "code",
      "source": [
        "values = [baby_df['bank'].mean(), baby_df['card'].mean(),\n",
        "          baby_df['certificate'].mean(), baby_df['cross'].mean()]\n",
        "labels = ['bank', 'card', 'certificate', 'cross']"
      ],
      "metadata": {
        "id": "NCnsdhc_1prx"
      },
      "execution_count": null,
      "outputs": []
    },
    {
      "cell_type": "code",
      "source": [
        "plt.figure(figsize=(10, 6))\n",
        "plt.barh(labels, values, color=['skyblue', 'lightgreen', 'lightcoral', 'lightgoldenrodyellow'], edgecolor='black')\n",
        "\n",
        "# 그래프 타이틀 및 레이블 설정\n",
        "plt.title('means')\n",
        "plt.xlabel('count')\n",
        "plt.ylabel('category')\n",
        "\n",
        "plt.show()"
      ],
      "metadata": {
        "id": "n2hBlFJZ1qr2"
      },
      "execution_count": null,
      "outputs": []
    },
    {
      "cell_type": "code",
      "source": [
        "values = [student_df['bank'].mean(), student_df['card'].mean(),\n",
        "          student_df['certificate'].mean(), student_df['cross'].mean()]\n",
        "labels = ['bank', 'card', 'certificate', 'cross']"
      ],
      "metadata": {
        "id": "fmhd8qeh1rmb"
      },
      "execution_count": null,
      "outputs": []
    },
    {
      "cell_type": "code",
      "source": [
        "plt.figure(figsize=(10, 6))\n",
        "plt.barh(labels, values, color=['skyblue', 'lightgreen', 'lightcoral', 'lightgoldenrodyellow'], edgecolor='black')\n",
        "\n",
        "# 그래프 타이틀 및 레이블 설정\n",
        "plt.title('means')\n",
        "plt.xlabel('count')\n",
        "plt.ylabel('category')\n",
        "\n",
        "plt.show()"
      ],
      "metadata": {
        "id": "psEkPJE41uY3"
      },
      "execution_count": null,
      "outputs": []
    },
    {
      "cell_type": "code",
      "source": [
        "cluster_baby_means = df_cluster_baby[['bank', 'card', 'certificate', 'cross']].mean().values\n",
        "cluster_student_means = df_cluster_student[['bank', 'card', 'certificate', 'cross']].mean().values"
      ],
      "metadata": {
        "id": "wYn6fo0n1uui"
      },
      "execution_count": null,
      "outputs": []
    },
    {
      "cell_type": "code",
      "source": [
        "categories = ['bank', 'card', 'certificate', 'cross']"
      ],
      "metadata": {
        "id": "EmQU4qPq1v_c"
      },
      "execution_count": null,
      "outputs": []
    },
    {
      "cell_type": "code",
      "source": [
        "# 꺾은선 그래프 그리기\n",
        "plt.figure(figsize=(10, 6))\n",
        "\n",
        "# 'baby' 클러스터 (child_cluster == 0)\n",
        "plt.plot(categories, cluster_baby_means, label='baby (Cluster 0)', color='blue', marker='o')\n",
        "\n",
        "# 'student' 클러스터 (child_cluster == 1)\n",
        "plt.plot(categories, cluster_student_means, label='Student (Cluster 1)', color='red', marker='o')\n",
        "\n",
        "# 그래프 설정\n",
        "plt.title('Comparison of Cluster 0 and Cluster 1 across 4 Categories')\n",
        "plt.xlabel('Category')\n",
        "plt.ylabel('Mean Value')\n",
        "plt.legend()\n",
        "\n",
        "# 그래프 출력\n",
        "plt.show()"
      ],
      "metadata": {
        "id": "6vml0iu11xLN"
      },
      "execution_count": null,
      "outputs": []
    },
    {
      "cell_type": "code",
      "source": [
        "columns_to_plot = ['ba01m', 'ba02m', 'ba04m', 'ba06m', 'ba08m', 'ba10m', 'ba12m', 'ba14m', 'ba16m', 'ba18m', 'bb02m', 'bb04m', 'bb06m', 'bb08m']\n",
        "mean_values_baby = [df_cluster_baby[col].mean() for col in columns_to_plot]"
      ],
      "metadata": {
        "id": "U0Ij_G8G13VR"
      },
      "execution_count": null,
      "outputs": []
    },
    {
      "cell_type": "code",
      "source": [
        "plt.figure(figsize=(10, 6))\n",
        "plt.bar(columns_to_plot, mean_values_baby, color=['skyblue', 'lightgreen', 'lightcoral', 'lightgoldenrodyellow', 'orange', 'purple'], edgecolor='black')\n",
        "\n",
        "# 그래프 타이틀과 레이블 설정\n",
        "plt.title('Mean Values of Bank')\n",
        "plt.xlabel('Columns')\n",
        "plt.ylabel('Mean Value')\n",
        "\n",
        "# 그래프 출력\n",
        "plt.show()"
      ],
      "metadata": {
        "id": "uACivG7I1-Q0"
      },
      "execution_count": null,
      "outputs": []
    },
    {
      "cell_type": "code",
      "source": [
        "mean_values_student = [df_cluster_student[col].mean() for col in columns_to_plot]"
      ],
      "metadata": {
        "id": "GikmaYwu1_BX"
      },
      "execution_count": null,
      "outputs": []
    },
    {
      "cell_type": "code",
      "source": [
        "plt.figure(figsize=(10, 6))\n",
        "plt.bar(columns_to_plot, mean_values_student, color=['skyblue', 'lightgreen', 'lightcoral', 'lightgoldenrodyellow', 'orange', 'purple'], edgecolor='black')\n",
        "\n",
        "# 그래프 타이틀과 레이블 설정\n",
        "plt.title('Mean Values of Bank')\n",
        "plt.xlabel('Columns')\n",
        "plt.ylabel('Mean Value')\n",
        "\n",
        "# 그래프 출력\n",
        "plt.show()"
      ],
      "metadata": {
        "id": "YfUhrz8g2F9a"
      },
      "execution_count": null,
      "outputs": []
    },
    {
      "cell_type": "code",
      "source": [
        "mean_values_baby_compare = [df_compare_cluster_baby[col].mean() for col in columns_to_plot]\n",
        "mean_values_student_compare = [df_compare_cluster_student[col].mean() for col in columns_to_plot]"
      ],
      "metadata": {
        "id": "3wRdj_Qg2G5v"
      },
      "execution_count": null,
      "outputs": []
    },
    {
      "cell_type": "code",
      "source": [
        "# 꺾은선 그래프 그리기\n",
        "plt.figure(figsize=(10, 6))\n",
        "\n",
        "# 'baby' 클러스터 (child_cluster == 0)\n",
        "plt.plot(columns_to_plot, mean_values_student, label='midd_student', color='black', marker='o')\n",
        "\n",
        "# 'student' 클러스터 (child_cluster == 1)\n",
        "plt.plot(columns_to_plot, mean_values_baby, label='midd_baby', color='pink', marker='o')\n",
        "\n",
        "# 'student' 클러스터 (child_cluster == 1)\n",
        "plt.plot(columns_to_plot, mean_values_student_compare, label='low_student', color='blue', marker='o')\n",
        "\n",
        "# 그래프 설정\n",
        "plt.title('Comparison of Cluster 0 and Cluster 1 across 4 Categories')\n",
        "plt.xlabel('Category')\n",
        "plt.ylabel('Mean Value')\n",
        "plt.legend()\n",
        "\n",
        "# 그래프 출력\n",
        "plt.show()"
      ],
      "metadata": {
        "id": "QxtWOCwL2LbR"
      },
      "execution_count": null,
      "outputs": []
    },
    {
      "cell_type": "code",
      "source": [
        "# 꺾은선 그래프 그리기\n",
        "plt.figure(figsize=(10, 6))\n",
        "\n",
        "# 'baby' 클러스터 (child_cluster == 0)\n",
        "plt.plot(columns_to_plot, mean_values_student, label='midd_student', color='pink', marker='o')\n",
        "\n",
        "# 'student' 클러스터 (child_cluster == 1)\n",
        "plt.plot(columns_to_plot, mean_values_baby, label='midd_baby', color='black', marker='o')\n",
        "\n",
        "# 'student' 클러스터 (child_cluster == 1)\n",
        "plt.plot(columns_to_plot, mean_values_baby_compare, label='low_baby', color='blue', marker='o')\n",
        "\n",
        "# 그래프 설정\n",
        "plt.title('Comparison of Cluster 0 and Cluster 1 across 4 Categories')\n",
        "plt.xlabel('Category')\n",
        "plt.ylabel('Mean Value')\n",
        "plt.legend()\n",
        "\n",
        "# 그래프 출력\n",
        "plt.show()"
      ],
      "metadata": {
        "id": "Xm5IUbmm2MIa"
      },
      "execution_count": null,
      "outputs": []
    },
    {
      "cell_type": "code",
      "source": [
        "columns_to_sum_card_mart = ['cb01m', '이용금액_마트', 'cb03m', 'cb04m', 'cb05m', 'cb06m', 'cb07m', 'cb08m', 'cb09m']\n",
        "df['card_mart'] = df[columns_to_sum_card_mart].sum(axis=1)\n",
        "columns_to_sum_card_food = ['이용금액_식당', 'cc02m', 'cc03m', 'cc04m']\n",
        "df['card_food'] = df[columns_to_sum_card_food].sum(axis=1)\n",
        "columns_to_sum_card_lifeSerivce = ['cd01m', 'cd02m', 'cd03m', 'cd04m', 'cd05m', 'cd06m', '이용금액_서점', 'cd08m', 'cd09m', 'cd10m', 'cd11m', 'cd12m', 'cd13m', 'cd14m']\n",
        "df['card_lifeService'] = df[columns_to_sum_card_lifeSerivce].sum(axis=1)\n",
        "columns_to_sum_card_expertService = ['이용금액_학원학습지', 'ce02m', 'ce03m', 'ce04m', 'ce05m', 'ce06m', 'ce07m', 'ce08m']\n",
        "df['card_expertService'] = df[columns_to_sum_card_expertService].sum(axis=1)\n",
        "columns_to_sum_card_leisure = ['cf01m', 'cf02m', 'cf03m', 'cf04m', 'cf05m', 'cf06m', 'cf07m', 'cf08m', 'cf09m', 'cf10m', '이용금액_놀이동산', 'cf12m', 'cf13m', 'cf14m', 'cf15m', '이용금액_전시/관람/체험', '이용금액_오락실/PC방', 'cf18m', 'cf19m']\n",
        "df['card_leisure'] = df[columns_to_sum_card_leisure].sum(axis=1)\n",
        "columns_to_plot_card_category = ['card_mart', 'card_food', 'card_lifeService', 'card_expertService', 'card_leisure']\n",
        "df_cluster_baby = df[df['child_cluster'] == 0]\n",
        "mean_values_baby_card_category = [df_cluster_baby[col].mean() for col in columns_to_plot_card_category]"
      ],
      "metadata": {
        "id": "fJOiQNgw2NRL"
      },
      "execution_count": null,
      "outputs": []
    },
    {
      "cell_type": "code",
      "source": [
        "plt.figure(figsize=(10, 6))\n",
        "plt.bar(columns_to_plot_card_category, mean_values_baby_card_category, color=['skyblue', 'lightgreen', 'lightcoral', 'lightgoldenrodyellow', 'orange', 'purple'], edgecolor='black')\n",
        "\n",
        "# 그래프 타이틀과 레이블 설정\n",
        "plt.title('Mean Values of Bank')\n",
        "plt.xlabel('Columns')\n",
        "plt.ylabel('Mean Value')\n",
        "\n",
        "# 그래프 출력\n",
        "plt.show()"
      ],
      "metadata": {
        "id": "wCp8Vq5H2aLc"
      },
      "execution_count": null,
      "outputs": []
    },
    {
      "cell_type": "code",
      "source": [
        "mean_values_student_card_category = [df_cluster_student[col].mean() for col in columns_to_plot_card_category]"
      ],
      "metadata": {
        "id": "3L970M8P2bOH"
      },
      "execution_count": null,
      "outputs": []
    },
    {
      "cell_type": "code",
      "source": [
        "plt.figure(figsize=(10, 6))\n",
        "plt.bar(columns_to_plot_card_category, mean_values_student_card_category, color=['skyblue', 'lightgreen', 'lightcoral', 'lightgoldenrodyellow', 'orange', 'purple'], edgecolor='black')\n",
        "\n",
        "# 그래프 타이틀과 레이블 설정\n",
        "plt.title('Mean Values of Bank')\n",
        "plt.xlabel('Columns')\n",
        "plt.ylabel('Mean Value')\n",
        "\n",
        "# 그래프 출력\n",
        "plt.show()"
      ],
      "metadata": {
        "id": "4iXiew5e2s7k"
      },
      "execution_count": null,
      "outputs": []
    },
    {
      "cell_type": "code",
      "source": [
        "columns_to_plot_certificate = ['sb04m', 'sb05m', 'sb06m', 'sb07m', 'sb08m', 'sb09m']\n",
        "mean_values_baby_certificate = [df_cluster_baby[col].mean() for col in columns_to_plot_certificate]"
      ],
      "metadata": {
        "id": "Xd84jrMT2tum"
      },
      "execution_count": null,
      "outputs": []
    },
    {
      "cell_type": "code",
      "source": [
        "plt.figure(figsize=(10, 6))\n",
        "plt.bar(columns_to_plot_certificate, mean_values_baby_certificate, color=['skyblue', 'lightgreen', 'lightcoral', 'lightgoldenrodyellow', 'orange', 'purple'], edgecolor='black')\n",
        "\n",
        "# 그래프 타이틀과 레이블 설정\n",
        "plt.title('Mean Values of Bank')\n",
        "plt.xlabel('Columns')\n",
        "plt.ylabel('Mean Value')\n",
        "\n",
        "# 그래프 출력\n",
        "plt.show()"
      ],
      "metadata": {
        "id": "0Zq52Lpo2wLo"
      },
      "execution_count": null,
      "outputs": []
    },
    {
      "cell_type": "code",
      "source": [
        "mean_values_student_certificate = [df_cluster_student[col].mean() for col in columns_to_plot_certificate]"
      ],
      "metadata": {
        "id": "FfRhoE3K2wx3"
      },
      "execution_count": null,
      "outputs": []
    },
    {
      "cell_type": "code",
      "source": [
        "plt.figure(figsize=(10, 6))\n",
        "plt.bar(columns_to_plot_certificate, mean_values_student_certificate, color=['skyblue', 'lightgreen', 'lightcoral', 'lightgoldenrodyellow', 'orange', 'purple'], edgecolor='black')\n",
        "\n",
        "# 그래프 타이틀과 레이블 설정\n",
        "plt.title('Mean Values of Bank')\n",
        "plt.xlabel('Columns')\n",
        "plt.ylabel('Mean Value')\n",
        "\n",
        "# 그래프 출력\n",
        "plt.show()"
      ],
      "metadata": {
        "id": "r14Rc7MT2x5h"
      },
      "execution_count": null,
      "outputs": []
    },
    {
      "cell_type": "code",
      "source": [
        "columns_to_plot_cross = ['cg04r', 'cg05r', 'cg06r', 'cg07r']\n",
        "mean_values_baby_cross = [df_cluster_baby[col].mean() for col in columns_to_plot_cross]"
      ],
      "metadata": {
        "id": "zGGUmsox2zgj"
      },
      "execution_count": null,
      "outputs": []
    },
    {
      "cell_type": "code",
      "source": [
        "plt.figure(figsize=(10, 6))\n",
        "plt.bar(columns_to_plot_cross, mean_values_baby_cross, color=['skyblue', 'lightgreen', 'lightcoral', 'lightgoldenrodyellow', 'orange', 'purple'], edgecolor='black')\n",
        "\n",
        "# 그래프 타이틀과 레이블 설정\n",
        "plt.title('Mean Values of Bank')\n",
        "plt.xlabel('Columns')\n",
        "plt.ylabel('Mean Value')\n",
        "\n",
        "# 그래프 출력\n",
        "plt.show()"
      ],
      "metadata": {
        "id": "ETzVuMSN20fM"
      },
      "execution_count": null,
      "outputs": []
    },
    {
      "cell_type": "code",
      "source": [
        "df_compare=pd.read_csv('asset_low.csv')"
      ],
      "metadata": {
        "id": "8TJO9I6Y21Ux"
      },
      "execution_count": null,
      "outputs": []
    },
    {
      "cell_type": "code",
      "source": [
        "df_compare['bank'] = df_compare[columns_to_sum].sum(axis=1)\n",
        "df_compare['card'] = df_compare[columns_to_sum2].sum(axis=1)\n",
        "df_compare['certificate'] = df_compare[columns_to_sum3].sum(axis=1)\n",
        "df_compare['cross'] = df_compare[columns_to_sum4].sum(axis=1)"
      ],
      "metadata": {
        "id": "NVrbljLV22Q0"
      },
      "execution_count": null,
      "outputs": []
    },
    {
      "cell_type": "code",
      "source": [
        "df_compare_cluster_student = df_compare[df_compare['child_cluster'] == 0]\n",
        "df_compare_cluster_baby = df_compare[df_compare['child_cluster'] == 1]"
      ],
      "metadata": {
        "id": "c2Vy0DDc23AV"
      },
      "execution_count": null,
      "outputs": []
    },
    {
      "cell_type": "code",
      "source": [
        "compare_cluster_baby_means = df_compare_cluster_baby[['bank', 'card', 'certificate', 'cross']].mean().values\n",
        "compare_cluster_student_means = df_compare_cluster_student[['bank', 'card', 'certificate', 'cross']].mean().values"
      ],
      "metadata": {
        "id": "QIcI_HWz236T"
      },
      "execution_count": null,
      "outputs": []
    },
    {
      "cell_type": "code",
      "source": [
        "# 꺾은선 그래프 그리기\n",
        "plt.figure(figsize=(10, 6))\n",
        "\n",
        "# 'baby' 클러스터 (child_cluster == 0)\n",
        "plt.plot(categories, cluster_baby_means, label='midd_baby', color='black', marker='o')\n",
        "\n",
        "# 'student' 클러스터 (child_cluster == 1)\n",
        "plt.plot(categories, cluster_student_means, label='midd_student', color='pink', marker='o')\n",
        "\n",
        "# gk위층 'baby' 클러스터\n",
        "plt.plot(categories, compare_cluster_baby_means, label='low_baby', color='blue', marker='o')\n",
        "\n",
        "\n",
        "# 그래프 설정\n",
        "plt.title('Comparison of Cluster 0 and Cluster 1 across 4 Categories')\n",
        "plt.xlabel('Category')\n",
        "plt.ylabel('Mean Value')\n",
        "plt.legend()\n",
        "\n",
        "# 그래프 출력\n",
        "plt.show()"
      ],
      "metadata": {
        "id": "V9NBiBXd24qP"
      },
      "execution_count": null,
      "outputs": []
    },
    {
      "cell_type": "code",
      "source": [
        "# 꺾은선 그래프 그리기\n",
        "plt.figure(figsize=(10, 6))\n",
        "\n",
        "# 'baby' 클러스터 (child_cluster == 0)\n",
        "plt.plot(categories, cluster_baby_means, label='midd_baby', color='pink', marker='o')\n",
        "\n",
        "# 'student' 클러스터 (child_cluster == 1)\n",
        "plt.plot(categories, cluster_student_means, label='midd_student', color='black', marker='o')\n",
        "\n",
        "# gk위층 'baby' 클러스터\n",
        "plt.plot(categories, compare_cluster_student_means, label='low_student', color='blue', marker='o')\n",
        "\n",
        "\n",
        "# 그래프 설정\n",
        "plt.title('Comparison of Cluster 0 and Cluster 1 across 4 Categories')\n",
        "plt.xlabel('Category')\n",
        "plt.ylabel('Mean Value')\n",
        "plt.legend()\n",
        "\n",
        "# 그래프 출력\n",
        "plt.show()"
      ],
      "metadata": {
        "id": "i47wwDYB25Qb"
      },
      "execution_count": null,
      "outputs": []
    },
    {
      "cell_type": "code",
      "source": [
        "df_compare['card_mart'] = df_compare[columns_to_sum_card_mart].sum(axis=1)\n",
        "df_compare['card_food'] = df_compare[columns_to_sum_card_food].sum(axis=1)\n",
        "df_compare['card_lifeService'] = df_compare[columns_to_sum_card_lifeSerivce].sum(axis=1)\n",
        "df_compare['card_expertService'] = df_compare[columns_to_sum_card_expertService].sum(axis=1)\n",
        "df_compare['card_leisure'] = df_compare[columns_to_sum_card_leisure].sum(axis=1)\n"
      ],
      "metadata": {
        "id": "LY5a8eDg26aS"
      },
      "execution_count": null,
      "outputs": []
    },
    {
      "cell_type": "code",
      "source": [
        "df_compare_cluster_student = df_compare[df_compare['child_cluster'] == 0]\n",
        "df_compare_cluster_baby = df_compare[df_compare['child_cluster'] == 1]"
      ],
      "metadata": {
        "id": "1qWQz4jf27w0"
      },
      "execution_count": null,
      "outputs": []
    },
    {
      "cell_type": "code",
      "source": [
        "compare_cluster_baby_means_card = df_compare_cluster_baby[['card_mart', 'card_food', 'card_lifeService', 'card_expertService', 'card_leisure']].mean().values\n",
        "compare_cluster_student_means_card = df_compare_cluster_student[['card_mart', 'card_food', 'card_lifeService', 'card_expertService', 'card_leisure']].mean().values"
      ],
      "metadata": {
        "id": "YNPzChjk28c1"
      },
      "execution_count": null,
      "outputs": []
    },
    {
      "cell_type": "code",
      "source": [
        "# 꺾은선 그래프 그리기\n",
        "plt.figure(figsize=(10, 6))\n",
        "\n",
        "# 'baby' 클러스터 (child_cluster == 0)\n",
        "plt.plot(columns_to_plot_card_category, mean_values_baby_card_category, label='midd_baby', color='black', marker='o')\n",
        "\n",
        "# 'student' 클러스터 (child_cluster == 1)\n",
        "plt.plot(columns_to_plot_card_category, mean_values_student_card_category, label='midd_student', color='pink', marker='o')\n",
        "\n",
        "# gk위층 'baby' 클러스터\n",
        "plt.plot(columns_to_plot_card_category, compare_cluster_baby_means_card, label='low_baby', color='blue', marker='o')\n",
        "\n",
        "\n",
        "# 그래프 설정\n",
        "plt.title('Comparison of Cluster 0 and Cluster 1 across 4 Categories')\n",
        "plt.xlabel('Category')\n",
        "plt.ylabel('Mean Value')\n",
        "plt.legend()\n",
        "\n",
        "# 그래프 출력\n",
        "plt.show()"
      ],
      "metadata": {
        "id": "dJ9vc2yz29hu"
      },
      "execution_count": null,
      "outputs": []
    },
    {
      "cell_type": "code",
      "source": [
        "# 꺾은선 그래프 그리기\n",
        "plt.figure(figsize=(10, 6))\n",
        "\n",
        "# 'baby' 클러스터 (child_cluster == 0)\n",
        "plt.plot(columns_to_plot_card_category, mean_values_baby_card_category, label='midd_baby', color='pink', marker='o')\n",
        "\n",
        "# 'student' 클러스터 (child_cluster == 1)\n",
        "plt.plot(columns_to_plot_card_category, mean_values_student_card_category, label='midd_student', color='black', marker='o')\n",
        "\n",
        "# gk위층 'baby' 클러스터\n",
        "plt.plot(columns_to_plot_card_category, compare_cluster_student_means_card, label='low_student', color='blue', marker='o')\n",
        "\n",
        "\n",
        "# 그래프 설정\n",
        "plt.title('Comparison of Cluster 0 and Cluster 1 across 4 Categories')\n",
        "plt.xlabel('Category')\n",
        "plt.ylabel('Mean Value')\n",
        "plt.legend()\n",
        "\n",
        "# 그래프 출력\n",
        "plt.show()"
      ],
      "metadata": {
        "id": "ohlgt9jY2-it"
      },
      "execution_count": null,
      "outputs": []
    },
    {
      "cell_type": "code",
      "source": [
        "compare_cluster_baby_means_certificate = df_compare_cluster_baby[['sb04m', 'sb05m', 'sb06m', 'sb07m', 'sb08m', 'sb09m']].mean().values\n",
        "compare_cluster_student_means_certificate = df_compare_cluster_student[['sb04m', 'sb05m', 'sb06m', 'sb07m', 'sb08m', 'sb09m']].mean().values"
      ],
      "metadata": {
        "id": "A0Y38ZPQ2_WY"
      },
      "execution_count": null,
      "outputs": []
    },
    {
      "cell_type": "code",
      "source": [
        "cluster_baby_means_certificate = df_cluster_baby[['sb04m', 'sb05m', 'sb06m', 'sb07m', 'sb08m', 'sb09m']].mean().values\n",
        "cluster_student_means_certificate = df_cluster_student[['sb04m', 'sb05m', 'sb06m', 'sb07m', 'sb08m', 'sb09m']].mean().values"
      ],
      "metadata": {
        "id": "ca83a2Yg3AWL"
      },
      "execution_count": null,
      "outputs": []
    },
    {
      "cell_type": "code",
      "source": [
        "# 꺾은선 그래프 그리기\n",
        "plt.figure(figsize=(10, 6))\n",
        "\n",
        "# 'baby' 클러스터 (child_cluster == 0)\n",
        "plt.plot(columns_to_sum3, cluster_baby_means_certificate, label='midd_baby', color='black', marker='o')\n",
        "\n",
        "# 'student' 클러스터 (child_cluster == 1)\n",
        "plt.plot(columns_to_sum3, cluster_student_means_certificate, label='midd_student', color='pink', marker='o')\n",
        "\n",
        "# gk위층 'baby' 클러스터\n",
        "plt.plot(columns_to_sum3, compare_cluster_baby_means_certificate, label='low_baby', color='blue', marker='o')\n",
        "\n",
        "\n",
        "# 그래프 설정\n",
        "plt.title('Comparison of Cluster 0 and Cluster 1 across 4 Categories')\n",
        "plt.xlabel('Category')\n",
        "plt.ylabel('Mean Value')\n",
        "plt.legend()\n",
        "\n",
        "# 그래프 출력\n",
        "plt.show()"
      ],
      "metadata": {
        "id": "-bc1Jw4h3BPz"
      },
      "execution_count": null,
      "outputs": []
    },
    {
      "cell_type": "code",
      "source": [
        "# 꺾은선 그래프 그리기\n",
        "plt.figure(figsize=(10, 6))\n",
        "\n",
        "# 'baby' 클러스터 (child_cluster == 0)\n",
        "plt.plot(columns_to_sum3, cluster_baby_means_certificate, label='midd_baby', color='pink', marker='o')\n",
        "\n",
        "# 'student' 클러스터 (child_cluster == 1)\n",
        "plt.plot(columns_to_sum3, cluster_student_means_certificate, label='midd_student', color='black', marker='o')\n",
        "\n",
        "# gk위층 'baby' 클러스터\n",
        "plt.plot(columns_to_sum3, compare_cluster_student_means_certificate, label='low_student', color='blue', marker='o')\n",
        "\n",
        "\n",
        "# 그래프 설정\n",
        "plt.title('Comparison of Cluster 0 and Cluster 1 across 4 Categories')\n",
        "plt.xlabel('Category')\n",
        "plt.ylabel('Mean Value')\n",
        "plt.legend()\n",
        "\n",
        "# 그래프 출력\n",
        "plt.show()"
      ],
      "metadata": {
        "id": "XlVukOzS3CIF"
      },
      "execution_count": null,
      "outputs": []
    },
    {
      "cell_type": "code",
      "source": [
        "compare_cluster_baby_means_cross = df_compare_cluster_baby[['cg04r', 'cg05r', 'cg06r', 'cg07r']].mean().values\n",
        "compare_cluster_student_means_cross = df_compare_cluster_student[['cg04r', 'cg05r', 'cg06r', 'cg07r']].mean().values\n",
        "cluster_baby_means_cross = df_cluster_baby[['cg04r', 'cg05r', 'cg06r', 'cg07r']].mean().values\n",
        "cluster_student_means_cross = df_cluster_student[['cg04r', 'cg05r', 'cg06r', 'cg07r']].mean().values"
      ],
      "metadata": {
        "id": "28cnEFYK3DLC"
      },
      "execution_count": null,
      "outputs": []
    },
    {
      "cell_type": "code",
      "source": [
        "# 꺾은선 그래프 그리기\n",
        "plt.figure(figsize=(10, 6))\n",
        "\n",
        "# 'baby' 클러스터 (child_cluster == 0)\n",
        "plt.plot(columns_to_sum4, cluster_baby_means_cross, label='midd_baby', color='black', marker='o')\n",
        "\n",
        "# 'student' 클러스터 (child_cluster == 1)\n",
        "plt.plot(columns_to_sum4, cluster_student_means_cross, label='midd_student', color='pink', marker='o')\n",
        "\n",
        "# gk위층 'baby' 클러스터\n",
        "plt.plot(columns_to_sum4, compare_cluster_baby_means_cross, label='low_baby', color='blue', marker='o')\n",
        "\n",
        "\n",
        "# 그래프 설정\n",
        "plt.title('Comparison of Cluster 0 and Cluster 1 across 4 Categories')\n",
        "plt.xlabel('Category')\n",
        "plt.ylabel('Mean Value')\n",
        "plt.legend()\n",
        "\n",
        "# 그래프 출력\n",
        "plt.show()"
      ],
      "metadata": {
        "id": "3CzlbE7Z3EMR"
      },
      "execution_count": null,
      "outputs": []
    },
    {
      "cell_type": "code",
      "source": [
        "# 꺾은선 그래프 그리기\n",
        "plt.figure(figsize=(10, 6))\n",
        "\n",
        "# 'baby' 클러스터 (child_cluster == 0)\n",
        "plt.plot(columns_to_sum4, cluster_baby_means_cross, label='midd_baby', color='pink', marker='o')\n",
        "\n",
        "# 'student' 클러스터 (child_cluster == 1)\n",
        "plt.plot(columns_to_sum4, cluster_student_means_cross, label='midd_student', color='black', marker='o')\n",
        "\n",
        "# gk위층 'baby' 클러스터\n",
        "plt.plot(columns_to_sum4, compare_cluster_student_means_cross, label='low_student', color='blue', marker='o')\n",
        "\n",
        "\n",
        "# 그래프 설정\n",
        "plt.title('Comparison of Cluster 0 and Cluster 1 across 4 Categories')\n",
        "plt.xlabel('Category')\n",
        "plt.ylabel('Mean Value')\n",
        "plt.legend()\n",
        "\n",
        "# 그래프 출력\n",
        "plt.show()"
      ],
      "metadata": {
        "id": "EmoToq753FMs"
      },
      "execution_count": null,
      "outputs": []
    },
    {
      "cell_type": "code",
      "source": [],
      "metadata": {
        "id": "oxZal_Rr3GGt"
      },
      "execution_count": null,
      "outputs": []
    }
  ]
}