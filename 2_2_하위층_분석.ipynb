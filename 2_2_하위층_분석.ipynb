{
  "nbformat": 4,
  "nbformat_minor": 0,
  "metadata": {
    "colab": {
      "provenance": [],
      "authorship_tag": "ABX9TyPPH0vs0OCMOltmTWw1arVY",
      "include_colab_link": true
    },
    "kernelspec": {
      "name": "python3",
      "display_name": "Python 3"
    },
    "language_info": {
      "name": "python"
    }
  },
  "cells": [
    {
      "cell_type": "markdown",
      "metadata": {
        "id": "view-in-github",
        "colab_type": "text"
      },
      "source": [
        "<a href=\"https://colab.research.google.com/github/jinju-yang/Shinhan-Bigdata-Hackerthon/blob/main/2_2_%ED%95%98%EC%9C%84%EC%B8%B5_%EB%B6%84%EC%84%9D.ipynb\" target=\"_parent\"><img src=\"https://colab.research.google.com/assets/colab-badge.svg\" alt=\"Open In Colab\"/></a>"
      ]
    },
    {
      "cell_type": "code",
      "execution_count": null,
      "metadata": {
        "id": "Esrqw0CP3LDd"
      },
      "outputs": [],
      "source": [
        "import pandas as pd\n",
        "import numpy as np\n",
        "import matplotlib.pyplot as plt\n",
        "import koreanize_matplotlib\n",
        "%config InlineBackend.figure_format = 'retina'\n",
        "from matplotlib import rcParams\n",
        "from pandas.api.types import CategoricalDtype"
      ]
    },
    {
      "cell_type": "code",
      "source": [
        "df=pd.read_csv('asset_low.csv')"
      ],
      "metadata": {
        "id": "zpTisa8u3QqO"
      },
      "execution_count": null,
      "outputs": []
    },
    {
      "cell_type": "code",
      "source": [
        "df"
      ],
      "metadata": {
        "id": "xb9xmLCH3Rat"
      },
      "execution_count": null,
      "outputs": []
    },
    {
      "cell_type": "code",
      "source": [
        "columns_to_sum = ['ba01m', 'ba02m', 'ba04m', 'ba06m', 'ba08m', 'ba10m', 'ba12m',\n",
        "                  'ba14m', 'ba16m', 'ba18m', 'bb02m', 'bb04m', 'bb06m', 'bb08m']\n",
        "columns_to_sum2 = ['cb01m', '이용금액_마트', 'cb03m', 'cb04m', 'cb05m', 'cb06m', 'cb07m', 'cb08m', 'cb09m',\n",
        "                   '이용금액_식당', 'cc02m', 'cc03m', 'cc04m', 'cd01m', 'cd02m', 'cd03m', 'cd04m', 'cd05m',\n",
        "                  'cd06m', '이용금액_서점', 'cd08m', 'cd09m', 'cd10m', 'cd11m', 'cd12m', 'cd13m', 'cd14m',\n",
        "                  '이용금액_학원학습지', 'ce02m', 'ce03m', 'ce04m', 'ce05m', 'ce06m', 'ce07m', 'ce08m', 'cf01m',\n",
        "                   'cf02m', 'cf03m', 'cf04m', 'cf05m', 'cf06m', 'cf07m', 'cf08m', 'cf09m', 'cf10m',\n",
        "                   '이용금액_놀이동산', 'cf12m', 'cf13m', 'cf14m', 'cf15m', '이용금액_전시/관람/체험', '이용금액_오락실/PC방', 'cf18m', 'cf19m']\n",
        "columns_to_sum3 = ['sb04m', 'sb05m', 'sb06m', 'sb07m', 'sb08m', 'sb09m']\n",
        "columns_to_sum4 = ['cg04r', 'cg05r', 'cg06r', 'cg07r']"
      ],
      "metadata": {
        "id": "kHY6AWPt3SLe"
      },
      "execution_count": null,
      "outputs": []
    },
    {
      "cell_type": "code",
      "source": [
        "df['bank'] = df[columns_to_sum].sum(axis=1)\n",
        "df['card'] = df[columns_to_sum2].sum(axis=1)\n",
        "df['certificate'] = df[columns_to_sum3].sum(axis=1)\n",
        "df['cross'] = df[columns_to_sum4].sum(axis=1)"
      ],
      "metadata": {
        "id": "P8i3rhVm3YTw"
      },
      "execution_count": null,
      "outputs": []
    },
    {
      "cell_type": "code",
      "source": [
        "df_cluster_student = df[df['child_cluster'] == 0]\n",
        "df_cluster_baby = df[df['child_cluster'] == 1]"
      ],
      "metadata": {
        "id": "zmQB0CJT3dPQ"
      },
      "execution_count": null,
      "outputs": []
    },
    {
      "cell_type": "code",
      "source": [
        "values = [df_cluster_student['bank'].mean(), df_cluster_student['card'].mean(),\n",
        "          df_cluster_student['certificate'].mean(), df_cluster_student['cross'].mean()]\n",
        "labels = ['bank', 'card', 'certificate', 'cross']"
      ],
      "metadata": {
        "id": "8XnuLIRd3djn"
      },
      "execution_count": null,
      "outputs": []
    },
    {
      "cell_type": "code",
      "source": [
        "plt.figure(figsize=(10, 6))\n",
        "plt.barh(labels, values, color=['skyblue', 'lightgreen', 'lightcoral', 'lightgoldenrodyellow'], edgecolor='black')\n",
        "\n",
        "# 그래프 타이틀 및 레이블 설정\n",
        "plt.title('means')\n",
        "plt.xlabel('count')\n",
        "plt.ylabel('category')\n",
        "\n",
        "plt.show()"
      ],
      "metadata": {
        "id": "r7fiyc0C3ehK"
      },
      "execution_count": null,
      "outputs": []
    },
    {
      "cell_type": "code",
      "source": [
        "values = [df_cluster_baby['bank'].mean(), df_cluster_baby['card'].mean(),\n",
        "          df_cluster_baby['certificate'].mean(), df_cluster_baby['cross'].mean()]\n",
        "labels = ['bank', 'card', 'certificate', 'cross']"
      ],
      "metadata": {
        "id": "i_yKENlH3fbf"
      },
      "execution_count": null,
      "outputs": []
    },
    {
      "cell_type": "code",
      "source": [
        "plt.figure(figsize=(10, 6))\n",
        "plt.barh(labels, values, color=['skyblue', 'lightgreen', 'lightcoral', 'lightgoldenrodyellow'], edgecolor='black')\n",
        "\n",
        "# 그래프 타이틀 및 레이블 설정\n",
        "plt.title('means')\n",
        "plt.xlabel('count')\n",
        "plt.ylabel('category')\n",
        "\n",
        "plt.show()"
      ],
      "metadata": {
        "id": "PxIJDHiD3gVA"
      },
      "execution_count": null,
      "outputs": []
    },
    {
      "cell_type": "code",
      "source": [
        "cluster_student_means = df_cluster_student[['bank', 'card', 'certificate', 'cross']].mean().values\n",
        "cluster_baby_means = df_cluster_baby[['bank', 'card', 'certificate', 'cross']].mean().values"
      ],
      "metadata": {
        "id": "bIqJziJO3hBP"
      },
      "execution_count": null,
      "outputs": []
    },
    {
      "cell_type": "code",
      "source": [
        "categories = ['bank', 'card', 'certificate', 'cross']"
      ],
      "metadata": {
        "id": "2ZQW2HPp3h6Q"
      },
      "execution_count": null,
      "outputs": []
    },
    {
      "cell_type": "code",
      "source": [
        "# 꺾은선 그래프 그리기\n",
        "plt.figure(figsize=(10, 6))\n",
        "\n",
        "# 'baby' 클러스터 (child_cluster == 0)\n",
        "plt.plot(categories, cluster_student_means, label='student', color='blue', marker='o')\n",
        "\n",
        "# 'student' 클러스터 (child_cluster == 1)\n",
        "plt.plot(categories, cluster_baby_means, label='baby', color='red', marker='o')\n",
        "\n",
        "# 그래프 설정\n",
        "plt.title('Comparison of Cluster 0 and Cluster 1 across 4 Categories')\n",
        "plt.xlabel('Category')\n",
        "plt.ylabel('Mean Value')\n",
        "plt.legend()\n",
        "\n",
        "# 그래프 출력\n",
        "plt.show()"
      ],
      "metadata": {
        "id": "dC_FOABY3isU"
      },
      "execution_count": null,
      "outputs": []
    },
    {
      "cell_type": "code",
      "source": [
        "columns_to_plot = ['ba01m', 'ba02m', 'ba04m', 'ba06m', 'ba08m', 'ba10m', 'ba12m', 'ba14m', 'ba16m', 'ba18m', 'bb02m', 'bb04m', 'bb06m', 'bb08m']\n",
        "mean_values_student = [df_cluster_student[col].mean() for col in columns_to_plot]"
      ],
      "metadata": {
        "id": "0PVDmFbR3jXK"
      },
      "execution_count": null,
      "outputs": []
    },
    {
      "cell_type": "code",
      "source": [
        "plt.figure(figsize=(10, 6))\n",
        "plt.bar(columns_to_plot, mean_values_student, color=['skyblue', 'lightgreen', 'lightcoral', 'lightgoldenrodyellow', 'orange', 'purple'], edgecolor='black')\n",
        "\n",
        "# 그래프 타이틀과 레이블 설정\n",
        "plt.title('Mean Values of Bank')\n",
        "plt.xlabel('Columns')\n",
        "plt.ylabel('Mean Value')\n",
        "\n",
        "# 그래프 출력\n",
        "plt.show()"
      ],
      "metadata": {
        "id": "vRv3uOTP3kXe"
      },
      "execution_count": null,
      "outputs": []
    },
    {
      "cell_type": "code",
      "source": [
        "columns_to_plot = ['ba01m', 'ba02m', 'ba04m', 'ba06m', 'ba08m', 'ba10m', 'ba12m', 'ba14m', 'ba16m', 'ba18m', 'bb02m', 'bb04m', 'bb06m', 'bb08m']\n",
        "mean_values_baby = [df_cluster_baby[col].mean() for col in columns_to_plot]"
      ],
      "metadata": {
        "id": "L9VcBrHD3lOb"
      },
      "execution_count": null,
      "outputs": []
    },
    {
      "cell_type": "code",
      "source": [
        "plt.figure(figsize=(10, 6))\n",
        "plt.bar(columns_to_plot, mean_values_baby, color=['skyblue', 'lightgreen', 'lightcoral', 'lightgoldenrodyellow', 'orange', 'purple'], edgecolor='black')\n",
        "\n",
        "# 그래프 타이틀과 레이블 설정\n",
        "plt.title('Mean Values of Bank')\n",
        "plt.xlabel('Columns')\n",
        "plt.ylabel('Mean Value')\n",
        "\n",
        "# 그래프 출력\n",
        "plt.show()"
      ],
      "metadata": {
        "id": "E4S9DHfM3mXS"
      },
      "execution_count": null,
      "outputs": []
    },
    {
      "cell_type": "code",
      "source": [
        "import matplotlib.pyplot as plt\n",
        "\n",
        "# 하나의 figure에서 두 개의 그래프를 그리기 위한 설정\n",
        "plt.figure(figsize=(12, 8))  # 전체 figure 크기를 지정\n",
        "\n",
        "# 첫 번째 subplot\n",
        "plt.subplot(221)  # 2x2 그리드에서 첫 번째 위치\n",
        "plt.bar(columns_to_plot, mean_values_student, color=['skyblue', 'lightgreen', 'lightcoral', 'lightgoldenrodyellow', 'orange', 'purple'], edgecolor='black')\n",
        "\n",
        "# 첫 번째 그래프의 타이틀과 레이블\n",
        "plt.title('Mean Values of Bank (Student)')\n",
        "plt.xlabel('Columns')\n",
        "plt.ylabel('Mean Value')\n",
        "\n",
        "# 두 번째 subplot\n",
        "plt.subplot(222)  # 2x2 그리드에서 두 번째 위치\n",
        "plt.bar(columns_to_plot, mean_values_baby, color=['skyblue', 'lightgreen', 'lightcoral', 'lightgoldenrodyellow', 'orange', 'purple'], edgecolor='black')\n",
        "\n",
        "# 두 번째 그래프의 타이틀과 레이블\n",
        "plt.title('Mean Values of Bank (Baby)')\n",
        "plt.xlabel('Columns')\n",
        "plt.ylabel('Mean Value')\n",
        "\n",
        "# 그래프 출력\n",
        "plt.tight_layout()  # 레이아웃 자동 조정 (그래프가 겹치지 않도록)\n",
        "plt.show()"
      ],
      "metadata": {
        "id": "oJ1if7pg3n6Z"
      },
      "execution_count": null,
      "outputs": []
    },
    {
      "cell_type": "code",
      "source": [
        "mean_values_baby_compare = [df_compare_cluster_baby[col].mean() for col in columns_to_plot]\n",
        "mean_values_student_compare = [df_compare_cluster_student[col].mean() for col in columns_to_plot]"
      ],
      "metadata": {
        "id": "OzO9lSQn3pBR"
      },
      "execution_count": null,
      "outputs": []
    },
    {
      "cell_type": "code",
      "source": [
        "# 꺾은선 그래프 그리기\n",
        "plt.figure(figsize=(10, 6))\n",
        "\n",
        "# 'baby' 클러스터 (child_cluster == 0)\n",
        "plt.plot(columns_to_plot, mean_values_student, label='low_student', color='black', marker='o')\n",
        "\n",
        "# 'student' 클러스터 (child_cluster == 1)\n",
        "plt.plot(columns_to_plot, mean_values_baby, label='low_baby', color='pink', marker='o')\n",
        "\n",
        "# 'student' 클러스터 (child_cluster == 1)\n",
        "plt.plot(columns_to_plot, mean_values_student_compare, label='midd_student', color='blue', marker='o')\n",
        "\n",
        "# 그래프 설정\n",
        "plt.title('Comparison of Cluster 0 and Cluster 1 across 4 Categories')\n",
        "plt.xlabel('Category')\n",
        "plt.ylabel('Mean Value')\n",
        "plt.legend()\n",
        "\n",
        "# 그래프 출력\n",
        "plt.show()"
      ],
      "metadata": {
        "id": "KdiJ-FuR3qAV"
      },
      "execution_count": null,
      "outputs": []
    },
    {
      "cell_type": "code",
      "source": [
        "# 꺾은선 그래프 그리기\n",
        "plt.figure(figsize=(10, 6))\n",
        "\n",
        "# 'baby' 클러스터 (child_cluster == 0)\n",
        "plt.plot(columns_to_plot, mean_values_student, label='low_student', color='pink', marker='o')\n",
        "\n",
        "# 'student' 클러스터 (child_cluster == 1)\n",
        "plt.plot(columns_to_plot, mean_values_baby, label='low_baby', color='black', marker='o')\n",
        "\n",
        "# 'student' 클러스터 (child_cluster == 1)\n",
        "plt.plot(columns_to_plot, mean_values_baby_compare, label='midd_baby', color='blue', marker='o')\n",
        "\n",
        "# 그래프 설정\n",
        "plt.title('Comparison of Cluster 0 and Cluster 1 across 4 Categories')\n",
        "plt.xlabel('Category')\n",
        "plt.ylabel('Mean Value')\n",
        "plt.legend()\n",
        "\n",
        "# 그래프 출력\n",
        "plt.show()"
      ],
      "metadata": {
        "id": "Hgu6cTD93ql5"
      },
      "execution_count": null,
      "outputs": []
    },
    {
      "cell_type": "code",
      "source": [
        "columns_to_sum_card_mart = ['cb01m', '이용금액_마트', 'cb03m', 'cb04m', 'cb05m', 'cb06m', 'cb07m', 'cb08m', 'cb09m']\n",
        "df['card_mart'] = df[columns_to_sum_card_mart].sum(axis=1)\n",
        "columns_to_sum_card_food = ['이용금액_식당', 'cc02m', 'cc03m', 'cc04m']\n",
        "df['card_food'] = df[columns_to_sum_card_food].sum(axis=1)\n",
        "columns_to_sum_card_lifeSerivce = ['cd01m', 'cd02m', 'cd03m', 'cd04m', 'cd05m', 'cd06m', '이용금액_서점', 'cd08m', 'cd09m', 'cd10m', 'cd11m', 'cd12m', 'cd13m', 'cd14m']\n",
        "df['card_lifeService'] = df[columns_to_sum_card_lifeSerivce].sum(axis=1)\n",
        "columns_to_sum_card_expertService = ['이용금액_학원학습지', 'ce02m', 'ce03m', 'ce04m', 'ce05m', 'ce06m', 'ce07m', 'ce08m']\n",
        "df['card_expertService'] = df[columns_to_sum_card_expertService].sum(axis=1)\n",
        "columns_to_sum_card_leisure = ['cf01m', 'cf02m', 'cf03m', 'cf04m', 'cf05m', 'cf06m', 'cf07m', 'cf08m', 'cf09m', 'cf10m', '이용금액_놀이동산', 'cf12m', 'cf13m', 'cf14m', 'cf15m', '이용금액_전시/관람/체험', '이용금액_오락실/PC방', 'cf18m', 'cf19m']\n",
        "df['card_leisure'] = df[columns_to_sum_card_leisure].sum(axis=1)\n",
        "columns_to_plot_card_category = ['card_mart', 'card_food', 'card_lifeService', 'card_expertService', 'card_leisure']"
      ],
      "metadata": {
        "id": "EgihGvus3rsI"
      },
      "execution_count": null,
      "outputs": []
    },
    {
      "cell_type": "code",
      "source": [
        "mean_values_student_card_category = [df_cluster_student[col].mean() for col in columns_to_plot_card_category]"
      ],
      "metadata": {
        "id": "m-2-uEbn3thi"
      },
      "execution_count": null,
      "outputs": []
    },
    {
      "cell_type": "code",
      "source": [
        "plt.figure(figsize=(10, 6))\n",
        "plt.bar(columns_to_plot_card_category, mean_values_student_card_category, color=['skyblue', 'lightgreen', 'lightcoral', 'lightgoldenrodyellow', 'orange', 'purple'], edgecolor='black')\n",
        "\n",
        "# 그래프 타이틀과 레이블 설정\n",
        "plt.title('Mean Values of Card')\n",
        "plt.xlabel('Columns')\n",
        "plt.ylabel('Mean Value')\n",
        "\n",
        "# 그래프 출력\n",
        "plt.show()"
      ],
      "metadata": {
        "id": "EIoFTIdn3u4t"
      },
      "execution_count": null,
      "outputs": []
    },
    {
      "cell_type": "code",
      "source": [
        "mean_values_baby_card_category = [df_cluster_baby[col].mean() for col in columns_to_plot_card_category]"
      ],
      "metadata": {
        "id": "Fb1UyQSV3vp_"
      },
      "execution_count": null,
      "outputs": []
    },
    {
      "cell_type": "code",
      "source": [
        "plt.figure(figsize=(10, 6))\n",
        "plt.bar(columns_to_plot_card_category, mean_values_baby_card_category, color=['skyblue', 'lightgreen', 'lightcoral', 'lightgoldenrodyellow', 'orange', 'purple'], edgecolor='black')\n",
        "\n",
        "# 그래프 타이틀과 레이블 설정\n",
        "plt.title('Mean Values of Card')\n",
        "plt.xlabel('Columns')\n",
        "plt.ylabel('Mean Value')\n",
        "\n",
        "# 그래프 출력\n",
        "plt.show()"
      ],
      "metadata": {
        "id": "ViA2xiYE3whR"
      },
      "execution_count": null,
      "outputs": []
    },
    {
      "cell_type": "code",
      "source": [
        "columns_to_plot_certificate = ['sb04m', 'sb05m', 'sb06m', 'sb07m', 'sb08m', 'sb09m']\n",
        "mean_values_student_certificate = [df_cluster_student[col].mean() for col in columns_to_plot_certificate]"
      ],
      "metadata": {
        "id": "oncAOi7-3xJY"
      },
      "execution_count": null,
      "outputs": []
    },
    {
      "cell_type": "code",
      "source": [
        "plt.figure(figsize=(10, 6))\n",
        "plt.bar(columns_to_plot_certificate, mean_values_student_certificate, color=['skyblue', 'lightgreen', 'lightcoral', 'lightgoldenrodyellow', 'orange', 'purple'], edgecolor='black')\n",
        "\n",
        "# 그래프 타이틀과 레이블 설정\n",
        "plt.title('Mean Values of certificate')\n",
        "plt.xlabel('Columns')\n",
        "plt.ylabel('Mean Value')\n",
        "\n",
        "# 그래프 출력\n",
        "plt.show()"
      ],
      "metadata": {
        "id": "KPZQM-Ve3y1w"
      },
      "execution_count": null,
      "outputs": []
    },
    {
      "cell_type": "code",
      "source": [
        "columns_to_plot_certificate = ['sb04m', 'sb05m', 'sb06m', 'sb07m', 'sb08m', 'sb09m']\n",
        "mean_values_baby_certificate = [df_cluster_baby[col].mean() for col in columns_to_plot_certificate]"
      ],
      "metadata": {
        "id": "xSiRL0W03zd4"
      },
      "execution_count": null,
      "outputs": []
    },
    {
      "cell_type": "code",
      "source": [
        "plt.figure(figsize=(10, 6))\n",
        "plt.bar(columns_to_plot_certificate, mean_values_baby_certificate, color=['skyblue', 'lightgreen', 'lightcoral', 'lightgoldenrodyellow', 'orange', 'purple'], edgecolor='black')\n",
        "\n",
        "# 그래프 타이틀과 레이블 설정\n",
        "plt.title('Mean Values of certificate')\n",
        "plt.xlabel('Columns')\n",
        "plt.ylabel('Mean Value')\n",
        "\n",
        "# 그래프 출력\n",
        "plt.show()"
      ],
      "metadata": {
        "id": "PJQTQpC030Ww"
      },
      "execution_count": null,
      "outputs": []
    },
    {
      "cell_type": "code",
      "source": [
        "columns_to_plot_cross = ['cg04r', 'cg05r', 'cg06r', 'cg07r']\n",
        "mean_values_student_cross = [df_cluster_student[col].mean() for col in columns_to_plot_cross]"
      ],
      "metadata": {
        "id": "DVWXG5G8309N"
      },
      "execution_count": null,
      "outputs": []
    },
    {
      "cell_type": "code",
      "source": [
        "plt.figure(figsize=(10, 6))\n",
        "plt.bar(columns_to_plot_cross, mean_values_student_cross, color=['skyblue', 'lightgreen', 'lightcoral', 'lightgoldenrodyellow', 'orange', 'purple'], edgecolor='black')\n",
        "\n",
        "# 그래프 타이틀과 레이블 설정\n",
        "plt.title('Mean Values of Bank')\n",
        "plt.xlabel('Columns')\n",
        "plt.ylabel('Mean Value')\n",
        "\n",
        "# 그래프 출력\n",
        "plt.show()"
      ],
      "metadata": {
        "id": "OeKssGYD32Y3"
      },
      "execution_count": null,
      "outputs": []
    },
    {
      "cell_type": "code",
      "source": [
        "columns_to_plot_cross = ['cg04r', 'cg05r', 'cg06r', 'cg07r']\n",
        "mean_values_baby_cross = [df_cluster_baby[col].mean() for col in columns_to_plot_cross]"
      ],
      "metadata": {
        "id": "FA5gm9tq33HY"
      },
      "execution_count": null,
      "outputs": []
    },
    {
      "cell_type": "code",
      "source": [
        "plt.figure(figsize=(10, 6))\n",
        "plt.bar(columns_to_plot_cross, mean_values_baby_cross, color=['skyblue', 'lightgreen', 'lightcoral', 'lightgoldenrodyellow', 'orange', 'purple'], edgecolor='black')\n",
        "\n",
        "# 그래프 타이틀과 레이블 설정\n",
        "plt.title('Mean Values of Bank')\n",
        "plt.xlabel('Columns')\n",
        "plt.ylabel('Mean Value')\n",
        "\n",
        "# 그래프 출력\n",
        "plt.show()"
      ],
      "metadata": {
        "id": "PCjUyCmk34Ac"
      },
      "execution_count": null,
      "outputs": []
    },
    {
      "cell_type": "code",
      "source": [
        "df_compare=pd.read_csv('asset_midd.csv')\n",
        "df_compare['bank'] = df_compare[columns_to_sum].sum(axis=1)\n",
        "print(df_compare[['bank']].head())"
      ],
      "metadata": {
        "id": "jRxcSum034w9"
      },
      "execution_count": null,
      "outputs": []
    },
    {
      "cell_type": "code",
      "source": [
        "df_compare['card'] = df_compare[columns_to_sum2].sum(axis=1)\n",
        "df_compare['certificate'] = df_compare[columns_to_sum3].sum(axis=1)\n",
        "df_compare['cross'] = df_compare[columns_to_sum4].sum(axis=1)\n",
        "df_compare_cluster_baby = df_compare[df_compare['child_cluster'] == 0]\n",
        "df_compare_cluster_student = df_compare[df_compare['child_cluster'] == 1]"
      ],
      "metadata": {
        "id": "8Fz6bR4J38K8"
      },
      "execution_count": null,
      "outputs": []
    },
    {
      "cell_type": "code",
      "source": [
        "compare_cluster_baby_means = df_compare_cluster_baby[['bank', 'card', 'certificate', 'cross']].mean().values\n",
        "compare_cluster_student_means = df_compare_cluster_student[['bank', 'card', 'certificate', 'cross']].mean().values"
      ],
      "metadata": {
        "id": "ezsVzDTW4Aku"
      },
      "execution_count": null,
      "outputs": []
    },
    {
      "cell_type": "code",
      "source": [
        "df_cluster_student = df[df['child_cluster'] == 0]\n",
        "df_cluster_baby = df[df['child_cluster'] == 1]"
      ],
      "metadata": {
        "id": "ZZwl2GtJ4CQ2"
      },
      "execution_count": null,
      "outputs": []
    },
    {
      "cell_type": "code",
      "source": [
        "# 꺾은선 그래프 그리기\n",
        "plt.figure(figsize=(10, 6))\n",
        "\n",
        "# 'baby' 클러스터 (child_cluster == 0)\n",
        "plt.plot(categories, cluster_baby_means, label='low_baby', color='black', marker='o')\n",
        "\n",
        "# 'student' 클러스터 (child_cluster == 1)\n",
        "plt.plot(categories, cluster_student_means, label='low_student', color='pink', marker='o')\n",
        "\n",
        "# 중위층 'baby' 클러스터\n",
        "plt.plot(categories, compare_cluster_baby_means, label='midd_baby', color='blue', marker='o')\n",
        "\n",
        "\n",
        "# 그래프 설정\n",
        "plt.title('Comparison of Cluster 0 and Cluster 1 across 4 Categories')\n",
        "plt.xlabel('Category')\n",
        "plt.ylabel('Mean Value')\n",
        "plt.legend()\n",
        "\n",
        "# 그래프 출력\n",
        "plt.show()"
      ],
      "metadata": {
        "id": "jj8PMXKe4D6i"
      },
      "execution_count": null,
      "outputs": []
    },
    {
      "cell_type": "code",
      "source": [
        "# 꺾은선 그래프 그리기\n",
        "plt.figure(figsize=(10, 6))\n",
        "\n",
        "# 'baby' 클러스터 (child_cluster == 0)\n",
        "plt.plot(categories, cluster_baby_means, label='low_baby', color='pink', marker='o')\n",
        "\n",
        "# 'student' 클러스터 (child_cluster == 1)\n",
        "plt.plot(categories, cluster_student_means, label='low_student', color='black', marker='o')\n",
        "\n",
        "# 중위층 'student' 클러스터\n",
        "plt.plot(categories, compare_cluster_student_means, label='midd_student', color='blue', marker='o')\n",
        "\n",
        "\n",
        "# 그래프 설정\n",
        "plt.title('low_baby & low_student & midd_student')\n",
        "plt.xlabel('Category')\n",
        "plt.ylabel('Mean Value')\n",
        "plt.legend()\n",
        "\n",
        "# 그래프 출력\n",
        "plt.show()"
      ],
      "metadata": {
        "id": "oVefuv9J4E-Z"
      },
      "execution_count": null,
      "outputs": []
    },
    {
      "cell_type": "code",
      "source": [
        "df_compare['card_mart'] = df_compare[columns_to_sum_card_mart].sum(axis=1)\n",
        "df_compare['card_food'] = df_compare[columns_to_sum_card_food].sum(axis=1)\n",
        "df_compare['card_lifeService'] = df_compare[columns_to_sum_card_lifeSerivce].sum(axis=1)\n",
        "df_compare['card_expertService'] = df_compare[columns_to_sum_card_expertService].sum(axis=1)\n",
        "df_compare['card_leisure'] = df_compare[columns_to_sum_card_leisure].sum(axis=1)"
      ],
      "metadata": {
        "id": "bbthvRBW4Fvk"
      },
      "execution_count": null,
      "outputs": []
    },
    {
      "cell_type": "code",
      "source": [
        "df_compare_cluster_student = df_compare[df_compare['child_cluster'] == 0]\n",
        "df_compare_cluster_baby = df_compare[df_compare['child_cluster'] == 1]"
      ],
      "metadata": {
        "id": "yKEJAtwA4GjM"
      },
      "execution_count": null,
      "outputs": []
    },
    {
      "cell_type": "code",
      "source": [
        "compare_cluster_baby_means_card = df_compare_cluster_baby[['card_mart', 'card_food', 'card_lifeService', 'card_expertService', 'card_leisure']].mean().values\n",
        "compare_cluster_student_means_card = df_compare_cluster_student[['card_mart', 'card_food', 'card_lifeService', 'card_expertService', 'card_leisure']].mean().values"
      ],
      "metadata": {
        "id": "zdP0laUX4Hel"
      },
      "execution_count": null,
      "outputs": []
    },
    {
      "cell_type": "code",
      "source": [
        "# 꺾은선 그래프 그리기\n",
        "plt.figure(figsize=(10, 6))\n",
        "\n",
        "# 'baby' 클러스터 (child_cluster == 0)\n",
        "plt.plot(columns_to_plot_card_category, mean_values_baby_card_category, label='low_baby', color='black', marker='o')\n",
        "\n",
        "# 'student' 클러스터 (child_cluster == 1)\n",
        "plt.plot(columns_to_plot_card_category, mean_values_student_card_category, label='low_student', color='pink', marker='o')\n",
        "\n",
        "# gk위층 'baby' 클러스터\n",
        "plt.plot(columns_to_plot_card_category, compare_cluster_baby_means_card, label='midd_baby', color='blue', marker='o')\n",
        "\n",
        "\n",
        "# 그래프 설정\n",
        "plt.title('Comparison of Cluster 0 and Cluster 1 across 4 Categories')\n",
        "plt.xlabel('Category')\n",
        "plt.ylabel('Mean Value')\n",
        "plt.legend()\n",
        "\n",
        "# 그래프 출력\n",
        "plt.show()"
      ],
      "metadata": {
        "id": "_Ast9d1I4IKW"
      },
      "execution_count": null,
      "outputs": []
    },
    {
      "cell_type": "code",
      "source": [
        "# 꺾은선 그래프 그리기\n",
        "plt.figure(figsize=(10, 6))\n",
        "\n",
        "# 'baby' 클러스터 (child_cluster == 0)\n",
        "plt.plot(columns_to_plot_card_category, mean_values_baby_card_category, label='low_baby', color='pink', marker='o')\n",
        "\n",
        "# 'student' 클러스터 (child_cluster == 1)\n",
        "plt.plot(columns_to_plot_card_category, mean_values_student_card_category, label='low_student', color='black', marker='o')\n",
        "\n",
        "# gk위층 'baby' 클러스터\n",
        "plt.plot(columns_to_plot_card_category, compare_cluster_student_means_card, label='midd_student', color='blue', marker='o')\n",
        "\n",
        "\n",
        "# 그래프 설정\n",
        "plt.title('Comparison of Cluster 0 and Cluster 1 across 4 Categories')\n",
        "plt.xlabel('Category')\n",
        "plt.ylabel('Mean Value')\n",
        "plt.legend()\n",
        "\n",
        "# 그래프 출력\n",
        "plt.show()"
      ],
      "metadata": {
        "id": "JShIJTQg4I_E"
      },
      "execution_count": null,
      "outputs": []
    },
    {
      "cell_type": "code",
      "source": [
        "compare_cluster_baby_means_certificate = df_compare_cluster_baby[['sb04m', 'sb05m', 'sb06m', 'sb07m', 'sb08m', 'sb09m']].mean().values\n",
        "compare_cluster_student_means_certificate = df_compare_cluster_student[['sb04m', 'sb05m', 'sb06m', 'sb07m', 'sb08m', 'sb09m']].mean().values\n",
        "cluster_baby_means_certificate = df_cluster_baby[['sb04m', 'sb05m', 'sb06m', 'sb07m', 'sb08m', 'sb09m']].mean().values\n",
        "cluster_student_means_certificate = df_cluster_student[['sb04m', 'sb05m', 'sb06m', 'sb07m', 'sb08m', 'sb09m']].mean().values"
      ],
      "metadata": {
        "id": "HO0aN-zE4Jun"
      },
      "execution_count": null,
      "outputs": []
    },
    {
      "cell_type": "code",
      "source": [
        "# 꺾은선 그래프 그리기\n",
        "plt.figure(figsize=(10, 6))\n",
        "\n",
        "# 'baby' 클러스터 (child_cluster == 0)\n",
        "plt.plot(columns_to_sum3, cluster_baby_means_certificate, label='low_baby', color='black', marker='o')\n",
        "\n",
        "# 'student' 클러스터 (child_cluster == 1)\n",
        "plt.plot(columns_to_sum3, cluster_student_means_certificate, label='low_student', color='pink', marker='o')\n",
        "\n",
        "# gk위층 'baby' 클러스터\n",
        "plt.plot(columns_to_sum3, compare_cluster_baby_means_certificate, label='midd_baby', color='blue', marker='o')\n",
        "\n",
        "\n",
        "# 그래프 설정\n",
        "plt.title('Comparison of Cluster 0 and Cluster 1 across 4 Categories')\n",
        "plt.xlabel('Category')\n",
        "plt.ylabel('Mean Value')\n",
        "plt.legend()\n",
        "\n",
        "# 그래프 출력\n",
        "plt.show()"
      ],
      "metadata": {
        "id": "ddSeNEKe4LGT"
      },
      "execution_count": null,
      "outputs": []
    },
    {
      "cell_type": "code",
      "source": [
        "# 꺾은선 그래프 그리기\n",
        "plt.figure(figsize=(10, 6))\n",
        "\n",
        "# 'baby' 클러스터 (child_cluster == 0)\n",
        "plt.plot(columns_to_sum3, cluster_baby_means_certificate, label='low_baby', color='pink', marker='o')\n",
        "\n",
        "# 'student' 클러스터 (child_cluster == 1)\n",
        "plt.plot(columns_to_sum3, cluster_student_means_certificate, label='low_student', color='black', marker='o')\n",
        "\n",
        "# gk위층 'baby' 클러스터\n",
        "plt.plot(columns_to_sum3, compare_cluster_student_means_certificate, label='midd_student', color='blue', marker='o')\n",
        "\n",
        "\n",
        "# 그래프 설정\n",
        "plt.title('Comparison of Cluster 0 and Cluster 1 across 4 Categories')\n",
        "plt.xlabel('Category')\n",
        "plt.ylabel('Mean Value')\n",
        "plt.legend()\n",
        "\n",
        "# 그래프 출력\n",
        "plt.show()"
      ],
      "metadata": {
        "id": "PDfFr8PN4Ltu"
      },
      "execution_count": null,
      "outputs": []
    },
    {
      "cell_type": "code",
      "source": [
        "compare_cluster_baby_means_cross = df_compare_cluster_baby[['cg04r', 'cg05r', 'cg06r', 'cg07r']].mean().values\n",
        "compare_cluster_student_means_cross = df_compare_cluster_student[['cg04r', 'cg05r', 'cg06r', 'cg07r']].mean().values\n",
        "cluster_baby_means_cross = df_cluster_baby[['cg04r', 'cg05r', 'cg06r', 'cg07r']].mean().values\n",
        "cluster_student_means_cross = df_cluster_student[['cg04r', 'cg05r', 'cg06r', 'cg07r']].mean().values"
      ],
      "metadata": {
        "id": "JoWaHMcD4Mjm"
      },
      "execution_count": null,
      "outputs": []
    },
    {
      "cell_type": "code",
      "source": [
        "# 꺾은선 그래프 그리기\n",
        "plt.figure(figsize=(10, 6))\n",
        "\n",
        "# 'baby' 클러스터 (child_cluster == 0)\n",
        "plt.plot(columns_to_sum4, cluster_baby_means_cross, label='low_baby', color='black', marker='o')\n",
        "\n",
        "# 'student' 클러스터 (child_cluster == 1)\n",
        "plt.plot(columns_to_sum4, cluster_student_means_cross, label='low_student', color='pink', marker='o')\n",
        "\n",
        "# gk위층 'baby' 클러스터\n",
        "plt.plot(columns_to_sum4, compare_cluster_baby_means_cross, label='midd_baby', color='blue', marker='o')\n",
        "\n",
        "\n",
        "# 그래프 설정\n",
        "plt.title('Comparison of Cluster 0 and Cluster 1 across 4 Categories')\n",
        "plt.xlabel('Category')\n",
        "plt.ylabel('Mean Value')\n",
        "plt.legend()\n",
        "\n",
        "# 그래프 출력\n",
        "plt.show()"
      ],
      "metadata": {
        "id": "Ng59lgpy4NgL"
      },
      "execution_count": null,
      "outputs": []
    },
    {
      "cell_type": "code",
      "source": [
        "# 꺾은선 그래프 그리기\n",
        "plt.figure(figsize=(10, 6))\n",
        "\n",
        "# 'baby' 클러스터 (child_cluster == 0)\n",
        "plt.plot(columns_to_sum4, cluster_baby_means_cross, label='low_baby', color='pink', marker='o')\n",
        "\n",
        "# 'student' 클러스터 (child_cluster == 1)\n",
        "plt.plot(columns_to_sum4, cluster_student_means_cross, label='low_student', color='black', marker='o')\n",
        "\n",
        "# gk위층 'baby' 클러스터\n",
        "plt.plot(columns_to_sum4, compare_cluster_student_means_cross, label='midd_student', color='blue', marker='o')\n",
        "\n",
        "\n",
        "# 그래프 설정\n",
        "plt.title('Comparison of Cluster 0 and Cluster 1 across 4 Categories')\n",
        "plt.xlabel('Category')\n",
        "plt.ylabel('Mean Value')\n",
        "plt.legend()\n",
        "\n",
        "# 그래프 출력\n",
        "plt.show()"
      ],
      "metadata": {
        "id": "cPQxnoRE4OOr"
      },
      "execution_count": null,
      "outputs": []
    },
    {
      "cell_type": "code",
      "source": [],
      "metadata": {
        "id": "lGZa3oJB4PKs"
      },
      "execution_count": null,
      "outputs": []
    }
  ]
}