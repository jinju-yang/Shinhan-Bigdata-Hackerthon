{
  "nbformat": 4,
  "nbformat_minor": 0,
  "metadata": {
    "colab": {
      "provenance": [],
      "authorship_tag": "ABX9TyMt27V4VBAS/ec2ZQXGyU6V",
      "include_colab_link": true
    },
    "kernelspec": {
      "name": "python3",
      "display_name": "Python 3"
    },
    "language_info": {
      "name": "python"
    }
  },
  "cells": [
    {
      "cell_type": "markdown",
      "metadata": {
        "id": "view-in-github",
        "colab_type": "text"
      },
      "source": [
        "<a href=\"https://colab.research.google.com/github/jinju-yang/Shinhan-Bigdata-Hackerthon/blob/1-1%2Fhierarchy-clustering/1_1_%EC%9E%90%EC%82%B0_%ED%81%B4%EB%9F%AC%EC%8A%A4%ED%84%B0%EB%A7%81.ipynb\" target=\"_parent\"><img src=\"https://colab.research.google.com/assets/colab-badge.svg\" alt=\"Open In Colab\"/></a>"
      ]
    },
    {
      "cell_type": "code",
      "execution_count": null,
      "metadata": {
        "id": "9BpmMrZfzS5I"
      },
      "outputs": [],
      "source": [
        "import pandas as pd\n",
        "import numpy as np\n",
        "import matplotlib.pyplot as plt\n",
        "import koreanize_matplotlib\n",
        "%config InlineBackend.figure_format = 'retina'\n",
        "from matplotlib import rcParams\n",
        "from sklearn.cluster import KMeans\n",
        "from sklearn.decomposition import PCA\n",
        "\n",
        "pd.set_option('display.max_rows', None)"
      ]
    },
    {
      "cell_type": "code",
      "source": [
        "df = pd.read_csv('dat.csv')\n",
        "df.head()"
      ],
      "metadata": {
        "id": "rTWMcqt1zeB5"
      },
      "execution_count": null,
      "outputs": []
    },
    {
      "cell_type": "code",
      "source": [
        "columns = ['ba01m', 'ba02m', 'ba04m', 'ba06m', 'ba08m', 'ba10m', 'ba12m',\n",
        "           'ba14m', 'ba16m', 'ba18m', 'bb02m', 'bb04m', 'bb06m', 'bb08m']\n",
        "X = df[columns]"
      ],
      "metadata": {
        "id": "Ap2KyZdzzfKo"
      },
      "execution_count": null,
      "outputs": []
    },
    {
      "cell_type": "code",
      "source": [
        "kmeans = KMeans(n_clusters=3, random_state=0)\n",
        "kmeans.fit(X)\n",
        "df.loc[:, 'cluster'] = kmeans.labels_\n",
        "print(df['cluster'].value_counts())"
      ],
      "metadata": {
        "id": "0RulVy3Vzgqa"
      },
      "execution_count": null,
      "outputs": []
    },
    {
      "cell_type": "code",
      "source": [
        "cluster_means = df.groupby('cluster')[columns].mean()\n",
        "cluster_means"
      ],
      "metadata": {
        "id": "l6o45mQiziHI"
      },
      "execution_count": null,
      "outputs": []
    },
    {
      "cell_type": "code",
      "source": [
        "#클러스터0: 소득수준 '중'\n",
        "#클러스터1: 소득수준 '하'\n",
        "#클러스터2: 소득수준 '상'"
      ],
      "metadata": {
        "id": "Gv3O6gjkzmot"
      },
      "execution_count": null,
      "outputs": []
    },
    {
      "cell_type": "code",
      "source": [
        "plt.scatter(df['bb02m'], df['ba02m'], c=df['cluster'], cmap='viridis')\n",
        "plt.xlabel('bb02m')\n",
        "plt.ylabel('ba02m')\n",
        "plt.title('K-means Clustering')\n",
        "plt.show()"
      ],
      "metadata": {
        "id": "2i1zGRMSzqJj"
      },
      "execution_count": null,
      "outputs": []
    },
    {
      "cell_type": "code",
      "source": [
        "cluster_stats = df.groupby('cluster')[columns].median()\n",
        "cluster_stats.head()\n",
        "cluster_stats = df.groupby('cluster')[columns].min()\n",
        "cluster_stats.head()\n",
        "cluster_stats = df.groupby('cluster')[columns].max()\n",
        "cluster_stats.head()"
      ],
      "metadata": {
        "id": "xx9m0Hpmzs0t"
      },
      "execution_count": null,
      "outputs": []
    },
    {
      "cell_type": "code",
      "source": [
        "df.head()"
      ],
      "metadata": {
        "id": "dApCZniJzuTA"
      },
      "execution_count": null,
      "outputs": []
    },
    {
      "cell_type": "code",
      "source": [
        "df.to_csv('asset_cluster.csv')"
      ],
      "metadata": {
        "id": "Th1aUMl5zwtp"
      },
      "execution_count": null,
      "outputs": []
    }
  ]
}